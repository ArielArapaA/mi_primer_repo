{
 "cells": [
  {
   "cell_type": "markdown",
   "id": "4a87479f-a448-4e19-b4dc-49c6ba67d11a",
   "metadata": {},
   "source": [
    "¿Qué es una corrutina?\n",
    "\n",
    "Una corrutina es una función que se puede suspender su ejecución y posteriormente restaurarla. En estas paradas puede haber un intercambio de datos en ambos sentidos. A diferencia de los generadores, aquí hay transmisión de información también de la función base a la corrutina."
   ]
  },
  {
   "cell_type": "markdown",
   "id": "27c9b891-603d-4d25-9c08-2d24e31474c8",
   "metadata": {},
   "source": [
    "Ejemplo: se pretende crear una funcion que compruebe si un valor de presion de un motor es alto o bajo. Pra poder configurar el sistema de medicion se requiere hacer uso de una funcion llamada activar_medidor, la cual tarda 10 segundos en configurar el medidor. Se pueden realizartantas operaciones como sean necesarias medir, pero al terminar de usar el medidor hay que desactivarlo usando la funcion desactivar_medidor, la cual tarda 5 segundos en realizar la tarea. La presion actual del sistema la devuelve una funcion denomianda valor_presion_actual."
   ]
  },
  {
   "cell_type": "code",
   "execution_count": 25,
   "id": "4fb30332-4412-40f6-b4b4-461687aa3f46",
   "metadata": {},
   "outputs": [],
   "source": [
    "#Forma convencional sin uso corrutina\n",
    "from time import sleep, time\n",
    "import random"
   ]
  },
  {
   "cell_type": "code",
   "execution_count": 10,
   "id": "e3747ac7-e006-4ea8-8b6f-cb5d82fa557b",
   "metadata": {},
   "outputs": [],
   "source": [
    "def activar_medidor(minimo, maximo):\n",
    "    \"\"\" Esta funcion simula que en un caso real se conectaria con\n",
    "    el sistema, bases de datos, utilizaria protocolos de conexion, intercambio de informacion, etc \"\"\"\n",
    "    valor_medio = (minimo + maximo) / 2\n",
    "    sleep(10)\n",
    "    print(\"Medidor activado!\")\n",
    "    return valor_medio\n",
    "\n",
    "def desactivar_medidor():\n",
    "    \"\"\"Esta funcion simula el tiempo empleado en desmantelar el sistem de comprobacion\"\"\"\n",
    "    sleep(5)\n",
    "    print(\"Medidor desactivado\")\n",
    "    return True\n",
    "\n",
    "def valor_presion_actual(minimo = 1, maximo = 100):\n",
    "    return random.choice(range(minimo, maximo))\n",
    "\n",
    "#La funcion solicitada en el ejercicio de ejemplo se podria hacer como sigue utilizando funciones normales de python\n",
    "\n",
    "def funcion_comprobar_presion(valor_a_probar, minimo=1, maximo=100):\n",
    "    valor_medio = activar_medidor(minimo, maximo)\n",
    "    if valor_a_probar > valor_medio:\n",
    "        print(f'La presion es alta {valor_a_probar}')\n",
    "    if valor_a_probar < valor_medio:\n",
    "        print(f'La presion es baja {valor_a_probar}')\n",
    "    if valor_a_probar == valor_medio:\n",
    "        print(f'La presion es normal {valor_a_probar}')\n",
    "    desactivar_medidor()\n"
   ]
  },
  {
   "cell_type": "code",
   "execution_count": 12,
   "id": "921bafc9-c3dd-4953-a4fa-27936ca4a211",
   "metadata": {},
   "outputs": [
    {
     "name": "stdout",
     "output_type": "stream",
     "text": [
      "Medidor activado!\n",
      "La presion es baja 45\n",
      "Medidor desactivado\n"
     ]
    }
   ],
   "source": [
    "funcion_comprobar_presion(45, 20, 80)"
   ]
  },
  {
   "cell_type": "code",
   "execution_count": 13,
   "id": "3da47c00-15f5-4f46-8792-a575808518f1",
   "metadata": {},
   "outputs": [],
   "source": [
    "#Ahora usando corrutinas "
   ]
  },
  {
   "cell_type": "code",
   "execution_count": 28,
   "id": "626d0dbf-6b5d-41a0-b3b7-2b17301e031b",
   "metadata": {},
   "outputs": [],
   "source": [
    "def corrutina_comprobar_presion(minimo=1, maximo=100):\n",
    "    valor_medio = activar_medidor(minimo, maximo)\n",
    "    try:\n",
    "        while True:\n",
    "            valor_a_probar = yield 'Corrutina inicializada'\n",
    "            if valor_a_probar > valor_medio:\n",
    "                print(f'La presion es alta {valor_a_probar}')\n",
    "            if valor_a_probar < valor_medio:\n",
    "                print(f'La presion es baja {valor_a_probar}')\n",
    "            if valor_a_probar == valor_medio:\n",
    "                print(f'La presion es normal {valor_a_probar}')\n",
    "    except KeyboardInterrupt:\n",
    "        desactivar_medidor()\n",
    "        yield True\n",
    "    except GeneratorExit:\n",
    "        desactivar_medidor()"
   ]
  },
  {
   "cell_type": "code",
   "execution_count": 29,
   "id": "eec66563-e3c3-4e86-9485-47580b977a68",
   "metadata": {},
   "outputs": [],
   "source": [
    "#ahora pasemos a ver la eficiencia de cino mediciones utilizando cada una de las funciones:"
   ]
  },
  {
   "cell_type": "code",
   "execution_count": 30,
   "id": "d4d27cb1-adb4-4160-8466-9754fffb8f01",
   "metadata": {},
   "outputs": [
    {
     "name": "stdout",
     "output_type": "stream",
     "text": [
      "Medidor activado!\n",
      "La presion es alta 69\n",
      "Medidor desactivado\n",
      "Medidor activado!\n",
      "La presion es baja 11\n",
      "Medidor desactivado\n",
      "Medidor activado!\n",
      "La presion es baja 32\n",
      "Medidor desactivado\n",
      "Medidor activado!\n",
      "La presion es alta 97\n",
      "Medidor desactivado\n",
      "Medidor activado!\n",
      "La presion es baja 35\n"
     ]
    },
    {
     "name": "stderr",
     "output_type": "stream",
     "text": [
      "Exception ignored in: <generator object corrutina_comprobar_presion at 0x0000023AB3A9CDD0>\n",
      "Traceback (most recent call last):\n",
      "  File \"C:\\Users\\Arbusta\\AppData\\Local\\Temp\\ipykernel_1320\\1349639084.py\", line 12, in corrutina_comprobar_presion\n",
      "NameError: name 'KeyBoardInterrupt' is not defined\n"
     ]
    },
    {
     "name": "stdout",
     "output_type": "stream",
     "text": [
      "Medidor desactivado\n",
      "Tiempo empleado: 75.1s\n",
      "Medidor activado!\n",
      "Corrutina inicializada\n",
      "Tiempo empleado para incializar 10.0s\n",
      "La presion es baja 2\n",
      "La presion es baja 17\n",
      "La presion es baja 6\n",
      "La presion es baja 40\n",
      "La presion es baja 20\n",
      "Medidor desactivado\n",
      "Tiempo empleado 15.0s\n"
     ]
    }
   ],
   "source": [
    "if __name__ == '__main__':\n",
    "    inicio = time()\n",
    "    for _ in range(5):\n",
    "        v_actual = valor_presion_actual()\n",
    "        funcion_comprobar_presion(v_actual)\n",
    "    tardanza = time() - inicio\n",
    "    print(f'Tiempo empleado: {tardanza:.3}s')\n",
    "    \n",
    "    inicio = time()\n",
    "    corrutina = corrutina_comprobar_presion()\n",
    "    print(next(corrutina))\n",
    "    inicializar = time() - inicio\n",
    "    print(f'Tiempo empleado para incializar {inicializar:.3}s')\n",
    "    for _ in range(5):\n",
    "        v_actual = valor_presion_actual()\n",
    "        corrutina.send(v_actual)\n",
    "    corrutina.throw(KeyboardInterrupt, 'saliendo de la ejecucion') #se podria usar tambien corrutina.close()\n",
    "    tardanza = time() - inicio\n",
    "    print(f'Tiempo empleado {tardanza:.3}s')"
   ]
  },
  {
   "cell_type": "markdown",
   "id": "5ddde62c-4d08-4b99-b401-43cc0d81ef4b",
   "metadata": {},
   "source": [
    "Como se puede ver, existe una gran diferencia en el timepo de ejecucio entre la version con funciones normales y la version que utiliza corrutinas.\n",
    "\n",
    "La principal ventaja de las corrutinas es que el contexto se mantiene estático dentro de la funcion generadora y, por tanto, se puede seguir haciendo  uso del medidor sin ningun problema. Para detener la ejecucion y cerrar el generador se utiliza la funcion *close*, que es manajda por la funcion generadora para desactivar la medicion. Adicionalmente, en ese ejemplo se maneja la excepcion producida por un *KeyBoardInterrupt*, lo que permite poder detener la ejecucion de forma controlada utilizando la funcion *throw*"
   ]
  },
  {
   "cell_type": "markdown",
   "id": "7e8a2e0b-5288-4b05-a515-7f0f993164e7",
   "metadata": {},
   "source": []
  },
  {
   "cell_type": "code",
   "execution_count": null,
   "id": "230c542f-0ba6-4c42-92cb-0047fbb2c3ff",
   "metadata": {},
   "outputs": [],
   "source": []
  }
 ],
 "metadata": {
  "kernelspec": {
   "display_name": "Python 3 (ipykernel)",
   "language": "python",
   "name": "python3"
  },
  "language_info": {
   "codemirror_mode": {
    "name": "ipython",
    "version": 3
   },
   "file_extension": ".py",
   "mimetype": "text/x-python",
   "name": "python",
   "nbconvert_exporter": "python",
   "pygments_lexer": "ipython3",
   "version": "3.10.5"
  }
 },
 "nbformat": 4,
 "nbformat_minor": 5
}
