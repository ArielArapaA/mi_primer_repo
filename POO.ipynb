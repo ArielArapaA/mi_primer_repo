{
 "cells": [
  {
   "cell_type": "markdown",
   "id": "83030919-757c-483b-bf0c-f353041fc62c",
   "metadata": {
    "tags": []
   },
   "source": [
    "<h1>Programacion orientada a obetos</h1>\n",
    "\n",
    "Una **clase** es el molde que se utiliza para crear objetos de un tipo especifico. Puede haber tantas clases como sean necesarias. Una vez que se crea un objeto especifico de una clase el objeto se considera una **instancia de la clase**.\n",
    "\n",
    "El uso de clases permite tener multiples instancias distintas de la misma clase. Estas se comportan de la forma que se ha definido en la clase, e incluso posibilitan generar clases más especificas de la clase original(denominada padre), lo que se conoce como **herencia**.\n",
    "\n",
    "Las instancias o las clases pueden guardar informacion, lo que se denomina **atributos**. Por otro lado, cada clase puede definir herramientas para operar tanto con sus propios datos como con otros objetos. A estas se les denomina **métodos** y pueden ser de distintos tipos, como se verá en los siguientes apartados."
   ]
  },
  {
   "cell_type": "markdown",
   "id": "267a7b07-8b78-4894-949d-4ef7ea06786a",
   "metadata": {
    "tags": []
   },
   "source": [
    "<h2>Definicion de clase</h2>\n",
    "\n",
    "Para poder definir una clase se utiliza la palabra reservada **class** seguida de un identificador de clase valido que debe seguir el tipo de nomenclatura **CamelCase** para cumplir con las reglas definidas en la PEP-8.\n",
    "\n",
    "La clase mas simple que se puede generar es la siguiente, en la que se utiliza la sentencia **pass**  para definir que se trata de una clase vacia:"
   ]
  },
  {
   "cell_type": "code",
   "execution_count": 2,
   "id": "b160723d-78f1-4b2a-83ee-330e9fa1352f",
   "metadata": {},
   "outputs": [
    {
     "name": "stdout",
     "output_type": "stream",
     "text": [
      "<class '__main__.Foo'>\n"
     ]
    }
   ],
   "source": [
    "class Foo:\n",
    "    pass\n",
    "\n",
    "f1 = Foo()\n",
    "f2 = Foo()\n",
    "\n",
    "print(type(f1))"
   ]
  },
  {
   "cell_type": "markdown",
   "id": "d316dac6-2491-4c81-ab71-28bb002b09aa",
   "metadata": {},
   "source": [
    "como se puede ver en el ejemplo, las variables **f1** y **f2** son instancias de la misma clase **Foo**. Para poder saber el tipo de cualquier variable se puede hacer uso la funcion **type**"
   ]
  },
  {
   "cell_type": "markdown",
   "id": "18b75976-15e0-4a41-ad01-1bf89401b127",
   "metadata": {
    "tags": []
   },
   "source": [
    "<h2>Atributos</h2>\n",
    "\n",
    "Los atributos son varaibles presentes en objetos o en clases, y se encargan de guardar la informacion. Pueden guardar no solo valores, sino tambien funciones asignadas tras la creacion de la instancia u otros objetos de otro tipo. Estos pueden  ser asignados tanto al inicializar la instancia como cuando esta ya esté inicializada de forma dinamica. Es igual que cuando se trabaja con variables, pero en este caso aplicado a un objeto:"
   ]
  },
  {
   "cell_type": "code",
   "execution_count": 5,
   "id": "5fe17891-9616-4a62-8624-af2e6ddd324a",
   "metadata": {},
   "outputs": [
    {
     "data": {
      "text/plain": [
       "{'nombre': 'Ariel', 'edad': 21}"
      ]
     },
     "execution_count": 5,
     "metadata": {},
     "output_type": "execute_result"
    }
   ],
   "source": [
    "class Algo:\n",
    "    pass\n",
    "algo1 = Algo()\n",
    "algo2 = Algo()\n",
    "algo1.nombre = \"Ariel\"\n",
    "algo1.edad = 21\n",
    "\n",
    "vars(algo1)"
   ]
  },
  {
   "cell_type": "code",
   "execution_count": 6,
   "id": "202ec561-9bb6-4d4b-b445-4d2c73e35c86",
   "metadata": {},
   "outputs": [
    {
     "data": {
      "text/plain": [
       "{}"
      ]
     },
     "execution_count": 6,
     "metadata": {},
     "output_type": "execute_result"
    }
   ],
   "source": [
    "vars(algo2)"
   ]
  },
  {
   "cell_type": "markdown",
   "id": "3a1d004b-1d9c-4766-af34-c5b11202edf0",
   "metadata": {},
   "source": [
    "Como se puede ver en el ejemplo anterior, se pueden añadir atributos a objetos de forma sencilla y evr qué atributos e informacion tienen los objetos utilizando la funcion **vars**"
   ]
  },
  {
   "cell_type": "markdown",
   "id": "482b3ee2-b366-4460-93f8-914ae3376482",
   "metadata": {},
   "source": [
    "<h3>Inicializar clases</h3>\n",
    "\n",
    "En python, cuando se instancia un objeto de una clase, se ejecutan varios metodos predefinidos y en concreto el metodo de inicializacion (y el mas común de personalizar) es **__init__**, el cual siempre tiene como primer parametro la instancia que se quiere inicializar. Por convencion se le denomina **self**, pero este nombre no es fijo, dado que, en realidad, se puede llamar como se quiera, puesto que es solo el nombre de larefencia de la instancia. Sin embargo, dicha nomenclatura es un estandar, es compartido por todos los nombres de los metodos aplicados a clases y está incluida como regla en la PEP-8.\n",
    "\n",
    "Además del parametro **self**, la funcion **__init__** puede definir tantos parametros como sean necesarios para inicializacion de una instancia. Normalmente son usados para inicailizar los atributos de todas las instancias, aunque se puede añadir la logica necesaria, como las llamadas a otros metodos o la realizacion de operaciones sobre los parametros. En el siguiente ejemplo se crea una clase **Coche** con algunos atributos:"
   ]
  },
  {
   "cell_type": "code",
   "execution_count": 8,
   "id": "e82737a5-c9d4-422f-97f8-3c6571110dd5",
   "metadata": {},
   "outputs": [
    {
     "data": {
      "text/plain": [
       "'Amarillo'"
      ]
     },
     "execution_count": 8,
     "metadata": {},
     "output_type": "execute_result"
    }
   ],
   "source": [
    "class Coche():\n",
    "    def __init__(self, color, marca, modelo):\n",
    "        self.color  = color\n",
    "        self.marca  = marca\n",
    "        self.modelo = modelo\n",
    "        \n",
    "coche1 = Coche(\"verde\", \"Honda\", \"R12\")\n",
    "coche2 = Coche(color=\"Amarillo\", marca=\"Toyota\", modelo=\"EA132\")\n",
    "coche2.color"
   ]
  },
  {
   "cell_type": "code",
   "execution_count": 9,
   "id": "15734953-147f-4137-a626-6f954102affb",
   "metadata": {},
   "outputs": [
    {
     "data": {
      "text/plain": [
       "'Honda'"
      ]
     },
     "execution_count": 9,
     "metadata": {},
     "output_type": "execute_result"
    }
   ],
   "source": [
    "coche1.marca"
   ]
  },
  {
   "cell_type": "code",
   "execution_count": 11,
   "id": "5b78c5d8-14d6-446d-98ec-ebdbd631c6c4",
   "metadata": {},
   "outputs": [
    {
     "data": {
      "text/plain": [
       "4"
      ]
     },
     "execution_count": 11,
     "metadata": {},
     "output_type": "execute_result"
    }
   ],
   "source": [
    "coche1.num_ruedas = 4\n",
    "coche1.num_ruedas"
   ]
  },
  {
   "cell_type": "code",
   "execution_count": 12,
   "id": "e7363018-c753-4faf-bbcc-e987aea813af",
   "metadata": {},
   "outputs": [
    {
     "ename": "AttributeError",
     "evalue": "'Coche' object has no attribute 'num_ruedas'",
     "output_type": "error",
     "traceback": [
      "\u001b[1;31m---------------------------------------------------------------------------\u001b[0m",
      "\u001b[1;31mAttributeError\u001b[0m                            Traceback (most recent call last)",
      "Input \u001b[1;32mIn [12]\u001b[0m, in \u001b[0;36m<cell line: 1>\u001b[1;34m()\u001b[0m\n\u001b[1;32m----> 1\u001b[0m \u001b[43mcoche2\u001b[49m\u001b[38;5;241;43m.\u001b[39;49m\u001b[43mnum_ruedas\u001b[49m\n",
      "\u001b[1;31mAttributeError\u001b[0m: 'Coche' object has no attribute 'num_ruedas'"
     ]
    }
   ],
   "source": [
    "coche2.num_ruedas"
   ]
  },
  {
   "cell_type": "markdown",
   "id": "895fcc28-7c13-4f15-beb6-1a7a7ab98c2c",
   "metadata": {},
   "source": [
    "El metodo **__init__** inicializa nuevas instancias de la clase **Coche**, donde inicializa algunos atributos que se pueden acceder haciendo uso del caracter '.' o de **getattr**.\n",
    "\n",
    "Los atributos pueden ser tan complejos como se requiera. Pueden contener otros objetos, y no solo simples literales, con el fin de crear clases y tipos mas complejos como las clases contenedoras, tales como las listas, los diccionarios o las tuplas.\n",
    "\n",
    "Como se puede ver en estos ejemplos, trabajar con objetos en python es algo muy simple y se puede hacer de manera natural."
   ]
  },
  {
   "cell_type": "markdown",
   "id": "b9304802-d481-436e-90d7-e089bece484c",
   "metadata": {
    "tags": []
   },
   "source": [
    "<h3>Operar con los atributos</h3>\n",
    "\n",
    "Aunque la forma dea cceder y asignar las variables a los atributos es usando el caracter '.' , Python provee las siguientes herramientas para poder acceder, comprobar la existencia, eliminar y actualizar los atributos:\n",
    "\n",
    "<ul>\n",
    "    <li><b>getattr</b>(objeto, nombre[, valor_por_defecto]): devuelve el valor del <b>nombre</b> que corresponde el atributo en el <b>objeto</b> que se pasa como primer argumento. El nombre debe ser una cadena de carecteres. Si no existe e atributo, se devuelve el <b>valor_por_defecto</b> (si se ha pasado como argumento). De lo contrario, se elevaráuna exceion del <b>AttributeError</b>\n",
    "    </li>\n",
    "    <li><b>setattr</b>(objeto, nombre, valor): permite asignar el valor especificado en valor, al objeto especificado e objeto añadiendo un atributo especificado por la cadena de caracteres nombre. Se puede utilizar cualquier valor y cualquier nombre, dado que nombre es una cadena de caracteres pero si pretende poder utilizar el acceso usando '.', nombre deberia ser un identifacdor valido.\n",
    "    </li>\n",
    "    <li><b>hasattr</b>(objeto, nombre): permite comprobar la presencia del atributo especificado por la cedena de caracteres nombre en el objeto especificado en objeto. El resultado será True si existe el atributo en el objeto. De lo contrario. será False\n",
    "    </li>\n",
    "    <li><b>delattr</b>(objeto, nombre): permite eliminar el atributo especificado por la cadena de caracteres nombre del objeto especificado en objeto.\n",
    "    </li>\n",
    "</ul>\n",
    "\n",
    "A continuacion se muestran algunos ejemplos del uso de estas funciones:"
   ]
  },
  {
   "cell_type": "code",
   "execution_count": 13,
   "id": "c56d1997-73eb-4091-89ad-7e8fe94e0564",
   "metadata": {},
   "outputs": [
    {
     "data": {
      "text/plain": [
       "{'color': 'Rojo', 'marca': 'Harley', 'modelo': 'AQ112'}"
      ]
     },
     "execution_count": 13,
     "metadata": {},
     "output_type": "execute_result"
    }
   ],
   "source": [
    "class Moto():\n",
    "    def __init__(self, color, marca, modelo):\n",
    "        self.color  = color\n",
    "        self.marca  = marca\n",
    "        self.modelo = modelo\n",
    "        \n",
    "c = Moto(\"Rojo\", \"Harley\", \"AQ112\")\n",
    "vars(c)"
   ]
  },
  {
   "cell_type": "code",
   "execution_count": 15,
   "id": "456b85b7-3d9e-4c4a-aed9-f8fb098037ad",
   "metadata": {},
   "outputs": [
    {
     "data": {
      "text/plain": [
       "3"
      ]
     },
     "execution_count": 15,
     "metadata": {},
     "output_type": "execute_result"
    }
   ],
   "source": [
    "setattr(c, \"num_ruedas\", 3)\n",
    "c.num_ruedas"
   ]
  },
  {
   "cell_type": "code",
   "execution_count": 16,
   "id": "2d035ffe-028d-4cdf-ad9d-c4eef45c4ea2",
   "metadata": {},
   "outputs": [
    {
     "data": {
      "text/plain": [
       "'Harley'"
      ]
     },
     "execution_count": 16,
     "metadata": {},
     "output_type": "execute_result"
    }
   ],
   "source": [
    "getattr(c, \"marca\")"
   ]
  },
  {
   "cell_type": "code",
   "execution_count": 18,
   "id": "3b9e75c2-8a0b-4590-aa33-529c5abff1b2",
   "metadata": {},
   "outputs": [
    {
     "ename": "AttributeError",
     "evalue": "color",
     "output_type": "error",
     "traceback": [
      "\u001b[1;31m---------------------------------------------------------------------------\u001b[0m",
      "\u001b[1;31mAttributeError\u001b[0m                            Traceback (most recent call last)",
      "Input \u001b[1;32mIn [18]\u001b[0m, in \u001b[0;36m<cell line: 1>\u001b[1;34m()\u001b[0m\n\u001b[1;32m----> 1\u001b[0m \u001b[38;5;28;43mdelattr\u001b[39;49m\u001b[43m(\u001b[49m\u001b[43mc\u001b[49m\u001b[43m,\u001b[49m\u001b[43m \u001b[49m\u001b[38;5;124;43m\"\u001b[39;49m\u001b[38;5;124;43mcolor\u001b[39;49m\u001b[38;5;124;43m\"\u001b[39;49m\u001b[43m)\u001b[49m\n\u001b[0;32m      2\u001b[0m c\u001b[38;5;241m.\u001b[39mcolor\n",
      "\u001b[1;31mAttributeError\u001b[0m: color"
     ]
    }
   ],
   "source": [
    "delattr(c, \"color\")\n",
    "c.color"
   ]
  },
  {
   "cell_type": "code",
   "execution_count": 19,
   "id": "d2cb0b14-a5f3-4a1c-b463-db1e5641a676",
   "metadata": {},
   "outputs": [
    {
     "data": {
      "text/plain": [
       "False"
      ]
     },
     "execution_count": 19,
     "metadata": {},
     "output_type": "execute_result"
    }
   ],
   "source": [
    "hasattr(c, \"rayo\")"
   ]
  },
  {
   "cell_type": "code",
   "execution_count": 20,
   "id": "ce06f981-d59e-4d39-b167-3b744e4ae111",
   "metadata": {},
   "outputs": [
    {
     "data": {
      "text/plain": [
       "True"
      ]
     },
     "execution_count": 20,
     "metadata": {},
     "output_type": "execute_result"
    }
   ],
   "source": [
    "hasattr(c, \"marca\")"
   ]
  },
  {
   "cell_type": "markdown",
   "id": "73ee1f51-265d-49d8-b9b1-76b00dc6af25",
   "metadata": {},
   "source": [
    "Como se puede ver en los ejemplos, se pueden usar estas funciones a la hora de operar con atributos, aunque por simplicidad, legibilidad del codigo y porque salvo **hasattr**, los demas son equivalentes, se recomienda usar la version simplificada con el caracter '.'"
   ]
  },
  {
   "cell_type": "code",
   "execution_count": null,
   "id": "94aea2f5-c843-4dfd-b810-15abcb9df919",
   "metadata": {},
   "outputs": [],
   "source": []
  }
 ],
 "metadata": {
  "kernelspec": {
   "display_name": "Python 3 (ipykernel)",
   "language": "python",
   "name": "python3"
  },
  "language_info": {
   "codemirror_mode": {
    "name": "ipython",
    "version": 3
   },
   "file_extension": ".py",
   "mimetype": "text/x-python",
   "name": "python",
   "nbconvert_exporter": "python",
   "pygments_lexer": "ipython3",
   "version": "3.10.5"
  }
 },
 "nbformat": 4,
 "nbformat_minor": 5
}
