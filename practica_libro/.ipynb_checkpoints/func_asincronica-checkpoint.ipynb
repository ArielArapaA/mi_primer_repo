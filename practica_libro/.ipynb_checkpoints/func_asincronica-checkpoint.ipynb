{
 "cells": [
  {
   "cell_type": "markdown",
   "id": "732f3689-2743-4b28-8a2d-2938f84ead68",
   "metadata": {},
   "source": [
    "<h2>Palabra reservedas</h2>\n",
    "\n",
    "**async** se usa para definir que una funcion es asíncronica  \n",
    "\n",
    "**wait** indica que el valor esperado es de tipo asíncronico\n",
    "\n",
    "El uso de la programacion asincronica permite que una funcion no se ejecute continuamente cuando este esperando a que evento ocurra, por ejemplo, que haya una respuesta desde una peticion web, una respuesta de una consulta a una base datos, apertura de un fichero en disco o cualquier otro tio de acceso a un sistema o riceso que provoque que la funcion deba esperar haciendo una operacion de entrada/salida u pueda cambiar de contexto hasta que el recurso esté disponible.\n"
   ]
  },
  {
   "cell_type": "code",
   "execution_count": 5,
   "id": "4019b0d0-59ed-49e1-9fd8-a7d3a8fb42ed",
   "metadata": {},
   "outputs": [],
   "source": [
    "import datetime\n",
    "import random\n",
    "from asyncio import sleep, gather\n",
    "async def respondedor(nombre):\n",
    "    frases = ['si', 'no']\n",
    "    elegida = random.choice(frases)\n",
    "    await sleep(random.choice([0,5, 1, 2]))\n",
    "    fecha = datetime.datetime.utcnow().strftime('%H:%M:%S')\n",
    "    return f\"{nombre} - {fecha}: {elegida}\"\n",
    "\n"
   ]
  },
  {
   "cell_type": "code",
   "execution_count": 6,
   "id": "04a38be5-54c1-45ff-ab51-408b00d46c16",
   "metadata": {},
   "outputs": [],
   "source": [
    "async def preguntador(nombre):\n",
    "    frases = [\"¿Quieres agua?\", \"¿Vamos al parque?\", \"¿Te gusta el helado?\", \"¿Esta desayunando?\", \"¿Comemos mas tarde?\", \"¿Te pago el gym?\" ]\n",
    "    elegida = random.choice(frases)\n",
    "    await sleep(random.choice([0,5, 1, 2]))\n",
    "    fecha = datetime.datetime.utcnow().strftime('%H:%M:%S')\n",
    "    return f\"{nombre} - {fecha}: {elegida}\"\n"
   ]
  },
  {
   "cell_type": "code",
   "execution_count": 7,
   "id": "fbdacc6f-cc7c-44f0-9308-bf85ebb09ff9",
   "metadata": {},
   "outputs": [
    {
     "name": "stdout",
     "output_type": "stream",
     "text": [
      "chat 4: Angel - 12:02:13: ¿Quieres agua?\n",
      "chat 1: Antonio - 12:02:14: ¿Esta desayunando?\n",
      "chat 2: Maria - 12:02:14: ¿Esta desayunando?\n",
      "chat 4: Ariel - 12:02:14: no\n",
      "chat 4: Ariel - 12:02:14: ¿Te gusta el helado?\n",
      "chat 3: Juan - 12:02:15: ¿Te pago el gym?\n",
      "chat 2: Mario - 12:02:15: no\n",
      "chat 3: Pepe - 12:02:15: no\n",
      "chat 2: Mario - 12:02:15: ¿Esta desayunando?\n",
      "chat 4: Angel - 12:02:16: no\n",
      "chat 4: Angel - 12:02:16: ¿Quieres agua?\n",
      "chat 4: Ariel - 12:02:16: si\n",
      "chat 4: Ariel - 12:02:16: ¿Vamos al parque?\n",
      "chat 4: Angel - 12:02:16: no\n",
      "chat 4: Angel - 12:02:17: ¿Te gusta el helado?\n",
      "chat 3: Pepe - 12:02:17: ¿Esta desayunando?\n",
      "chat 2: Maria - 12:02:17: no\n",
      "chat 2: Maria - 12:02:17: ¿Quieres agua?\n",
      "chat 3: Juan - 12:02:18: si\n",
      "chat 2: Mario - 12:02:18: si\n",
      "chat 3: Juan - 12:02:18: ¿Vamos al parque?\n",
      "chat 2: Mario - 12:02:18: ¿Te gusta el helado?\n",
      "chat 1: Ana - 12:02:19: no\n",
      "chat 4: Ariel - 12:02:19: si\n",
      "chat 1: Ana - 12:02:21: ¿Quieres agua?\n",
      "chat 1: Antonio - 12:02:22: no\n",
      "chat 1: Antonio - 12:02:22: ¿Te pago el gym?\n",
      "chat 2: Maria - 12:02:23: si\n",
      "chat 3: Pepe - 12:02:23: no\n",
      "chat 1: Ana - 12:02:24: no\n",
      "chat 2: Maria - 12:02:24: ¿Comemos mas tarde?\n",
      "chat 1: Ana - 12:02:25: ¿Te pago el gym?\n",
      "chat 2: Mario - 12:02:25: si\n",
      "chat 1: Antonio - 12:02:25: no\n",
      "chat 1: Antonio - 12:02:26: ¿Te gusta el helado?\n",
      "chat 3: Pepe - 12:02:28: ¿Esta desayunando?\n",
      "chat 3: Juan - 12:02:28: no\n",
      "chat 3: Juan - 12:02:30: ¿Esta desayunando?\n",
      "chat 1: Ana - 12:02:31: no\n",
      "chat 3: Pepe - 12:02:35: si\n"
     ]
    }
   ],
   "source": [
    "async def chat(nombre_pregunta, nombre_respuesta, chat_id):\n",
    "    for _ in range(5):\n",
    "        nombre_pregunta, nombre_respuesta = nombre_respuesta, nombre_pregunta\n",
    "        pregunta = await preguntador(nombre_pregunta)\n",
    "        print(f\"chat {chat_id}: {pregunta}\")\n",
    "        respuesta = await respondedor(nombre_respuesta)\n",
    "        print(f\"chat {chat_id}: {respuesta}\")\n",
    "    return True\n",
    "\n",
    "async def main(participantes):\n",
    "    chats = []\n",
    "    for idx, (part1, part2) in enumerate(participantes):\n",
    "        chats.append(chat(part1, part2, idx + 1))\n",
    "    await gather(\n",
    "        *chats\n",
    "    )\n",
    "\n",
    "await main([('Ana', 'Antonio'), ('Mario', 'Maria'), ('Pepe', 'Juan'), ('Ariel', 'Angel') ])"
   ]
  },
  {
   "cell_type": "code",
   "execution_count": 25,
   "id": "00e1bcdb-a6be-4e01-97c7-c648e548106a",
   "metadata": {},
   "outputs": [
    {
     "name": "stdout",
     "output_type": "stream",
     "text": [
      "chat 1: Juana - 22:00:17: ¿Quieres agua?\n",
      "chat 1: Juan [.:20d]- 22:00:19: si\n",
      "chat 1: Juan - 22:00:21: ¿Quieres agua?\n",
      "chat 1: Juana [.:20d]- 22:00:22: no\n",
      "chat 1: Juana - 22:00:22: ¿Vamos al parque?\n",
      "chat 1: Juan [.:20d]- 22:00:23: si\n",
      "chat 1: Juan - 22:00:24: ¿Quieres agua?\n",
      "chat 1: Juana [.:20d]- 22:00:24: no\n",
      "chat 1: Juana - 22:00:29: ¿Quieres agua?\n",
      "chat 1: Juan [.:20d]- 22:00:29: no\n"
     ]
    },
    {
     "data": {
      "text/plain": [
       "True"
      ]
     },
     "execution_count": 25,
     "metadata": {},
     "output_type": "execute_result"
    }
   ],
   "source": [
    "await chat(\"Juan\", \"Juana\", 1)"
   ]
  },
  {
   "cell_type": "code",
   "execution_count": null,
   "id": "24293144-ba6c-4b22-a93b-46ecb1e10db2",
   "metadata": {},
   "outputs": [],
   "source": []
  },
  {
   "cell_type": "code",
   "execution_count": null,
   "id": "3be7f568-3b5a-47c6-90fd-553ccd5c9906",
   "metadata": {},
   "outputs": [],
   "source": []
  }
 ],
 "metadata": {
  "kernelspec": {
   "display_name": "Python 3 (ipykernel)",
   "language": "python",
   "name": "python3"
  },
  "language_info": {
   "codemirror_mode": {
    "name": "ipython",
    "version": 3
   },
   "file_extension": ".py",
   "mimetype": "text/x-python",
   "name": "python",
   "nbconvert_exporter": "python",
   "pygments_lexer": "ipython3",
   "version": "3.10.5"
  }
 },
 "nbformat": 4,
 "nbformat_minor": 5
}
