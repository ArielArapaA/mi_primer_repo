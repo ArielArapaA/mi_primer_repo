{
 "cells": [
  {
   "cell_type": "markdown",
   "id": "83030919-757c-483b-bf0c-f353041fc62c",
   "metadata": {
    "tags": []
   },
   "source": [
    "<h1>Programacion orientada a obetos</h1>\n",
    "\n",
    "Una **clase** es el molde que se utiliza para crear objetos de un tipo especifico. Puede haber tantas clases como sean necesarias. Una vez que se crea un objeto especifico de una clase el objeto se considera una **instancia de la clase**.\n",
    "\n",
    "El uso de clases permite tener multiples instancias distintas de la misma clase. Estas se comportan de la forma que se ha definido en la clase, e incluso posibilitan generar clases más especificas de la clase original(denominada padre), lo que se conoce como **herencia**.\n",
    "\n",
    "Las instancias o las clases pueden guardar informacion, lo que se denomina **atributos**. Por otro lado, cada clase puede definir herramientas para operar tanto con sus propios datos como con otros objetos. A estas se les denomina **métodos** y pueden ser de distintos tipos, como se verá en los siguientes apartados."
   ]
  },
  {
   "cell_type": "markdown",
   "id": "267a7b07-8b78-4894-949d-4ef7ea06786a",
   "metadata": {
    "tags": []
   },
   "source": [
    "<h2>Definicion de clase</h2>\n",
    "\n",
    "Para poder definir una clase se utiliza la palabra reservada **class** seguida de un identificador de clase valido que debe seguir el tipo de nomenclatura **CamelCase** para cumplir con las reglas definidas en la PEP-8.\n",
    "\n",
    "La clase mas simple que se puede generar es la siguiente, en la que se utiliza la sentencia **pass**  para definir que se trata de una clase vacia:"
   ]
  },
  {
   "cell_type": "code",
   "execution_count": 2,
   "id": "b160723d-78f1-4b2a-83ee-330e9fa1352f",
   "metadata": {},
   "outputs": [
    {
     "name": "stdout",
     "output_type": "stream",
     "text": [
      "<class '__main__.Foo'>\n"
     ]
    }
   ],
   "source": [
    "class Foo:\n",
    "    pass\n",
    "\n",
    "f1 = Foo()\n",
    "f2 = Foo()\n",
    "\n",
    "print(type(f1))"
   ]
  },
  {
   "cell_type": "markdown",
   "id": "d316dac6-2491-4c81-ab71-28bb002b09aa",
   "metadata": {},
   "source": [
    "como se puede ver en el ejemplo, las variables **f1** y **f2** son instancias de la misma clase **Foo**. Para poder saber el tipo de cualquier variable se puede hacer uso la funcion **type**"
   ]
  },
  {
   "cell_type": "markdown",
   "id": "18b75976-15e0-4a41-ad01-1bf89401b127",
   "metadata": {
    "tags": []
   },
   "source": [
    "<h2>Atributos</h2>\n",
    "\n",
    "Los atributos son varaibles presentes en objetos o en clases, y se encargan de guardar la informacion. Pueden guardar no solo valores, sino tambien funciones asignadas tras la creacion de la instancia u otros objetos de otro tipo. Estos pueden  ser asignados tanto al inicializar la instancia como cuando esta ya esté inicializada de forma dinamica. Es igual que cuando se trabaja con variables, pero en este caso aplicado a un objeto:"
   ]
  },
  {
   "cell_type": "code",
   "execution_count": 5,
   "id": "5fe17891-9616-4a62-8624-af2e6ddd324a",
   "metadata": {},
   "outputs": [
    {
     "data": {
      "text/plain": [
       "{'nombre': 'Ariel', 'edad': 21}"
      ]
     },
     "execution_count": 5,
     "metadata": {},
     "output_type": "execute_result"
    }
   ],
   "source": [
    "class Algo:\n",
    "    pass\n",
    "algo1 = Algo()\n",
    "algo2 = Algo()\n",
    "algo1.nombre = \"Ariel\"\n",
    "algo1.edad = 21\n",
    "\n",
    "vars(algo1)"
   ]
  },
  {
   "cell_type": "code",
   "execution_count": 6,
   "id": "202ec561-9bb6-4d4b-b445-4d2c73e35c86",
   "metadata": {},
   "outputs": [
    {
     "data": {
      "text/plain": [
       "{}"
      ]
     },
     "execution_count": 6,
     "metadata": {},
     "output_type": "execute_result"
    }
   ],
   "source": [
    "vars(algo2)"
   ]
  },
  {
   "cell_type": "markdown",
   "id": "3a1d004b-1d9c-4766-af34-c5b11202edf0",
   "metadata": {},
   "source": [
    "Como se puede ver en el ejemplo anterior, se pueden añadir atributos a objetos de forma sencilla y evr qué atributos e informacion tienen los objetos utilizando la funcion **vars**"
   ]
  },
  {
   "cell_type": "markdown",
   "id": "482b3ee2-b366-4460-93f8-914ae3376482",
   "metadata": {},
   "source": [
    "<h3>Inicializar clases</h3>\n",
    "\n",
    "En python, cuando se instancia un objeto de una clase, se ejecutan varios metodos predefinidos y en concreto el metodo de inicializacion (y el mas común de personalizar) es **__init__**, el cual siempre tiene como primer parametro la instancia que se quiere inicializar. Por convencion se le denomina **self**, pero este nombre no es fijo, dado que, en realidad, se puede llamar como se quiera, puesto que es solo el nombre de larefencia de la instancia. Sin embargo, dicha nomenclatura es un estandar, es compartido por todos los nombres de los metodos aplicados a clases y está incluida como regla en la PEP-8.\n",
    "\n",
    "Además del parametro **self**, la funcion **__init__** puede definir tantos parametros como sean necesarios para inicializacion de una instancia. Normalmente son usados para inicailizar los atributos de todas las instancias, aunque se puede añadir la logica necesaria, como las llamadas a otros metodos o la realizacion de operaciones sobre los parametros. En el siguiente ejemplo se crea una clase **Coche** con algunos atributos:"
   ]
  },
  {
   "cell_type": "code",
   "execution_count": 8,
   "id": "e82737a5-c9d4-422f-97f8-3c6571110dd5",
   "metadata": {},
   "outputs": [
    {
     "data": {
      "text/plain": [
       "'Amarillo'"
      ]
     },
     "execution_count": 8,
     "metadata": {},
     "output_type": "execute_result"
    }
   ],
   "source": [
    "class Coche():\n",
    "    def __init__(self, color, marca, modelo):\n",
    "        self.color  = color\n",
    "        self.marca  = marca\n",
    "        self.modelo = modelo\n",
    "        \n",
    "coche1 = Coche(\"verde\", \"Honda\", \"R12\")\n",
    "coche2 = Coche(color=\"Amarillo\", marca=\"Toyota\", modelo=\"EA132\")\n",
    "coche2.color"
   ]
  },
  {
   "cell_type": "code",
   "execution_count": 9,
   "id": "15734953-147f-4137-a626-6f954102affb",
   "metadata": {},
   "outputs": [
    {
     "data": {
      "text/plain": [
       "'Honda'"
      ]
     },
     "execution_count": 9,
     "metadata": {},
     "output_type": "execute_result"
    }
   ],
   "source": [
    "coche1.marca"
   ]
  },
  {
   "cell_type": "code",
   "execution_count": 11,
   "id": "5b78c5d8-14d6-446d-98ec-ebdbd631c6c4",
   "metadata": {},
   "outputs": [
    {
     "data": {
      "text/plain": [
       "4"
      ]
     },
     "execution_count": 11,
     "metadata": {},
     "output_type": "execute_result"
    }
   ],
   "source": [
    "coche1.num_ruedas = 4\n",
    "coche1.num_ruedas"
   ]
  },
  {
   "cell_type": "code",
   "execution_count": 12,
   "id": "e7363018-c753-4faf-bbcc-e987aea813af",
   "metadata": {},
   "outputs": [
    {
     "ename": "AttributeError",
     "evalue": "'Coche' object has no attribute 'num_ruedas'",
     "output_type": "error",
     "traceback": [
      "\u001b[1;31m---------------------------------------------------------------------------\u001b[0m",
      "\u001b[1;31mAttributeError\u001b[0m                            Traceback (most recent call last)",
      "Input \u001b[1;32mIn [12]\u001b[0m, in \u001b[0;36m<cell line: 1>\u001b[1;34m()\u001b[0m\n\u001b[1;32m----> 1\u001b[0m \u001b[43mcoche2\u001b[49m\u001b[38;5;241;43m.\u001b[39;49m\u001b[43mnum_ruedas\u001b[49m\n",
      "\u001b[1;31mAttributeError\u001b[0m: 'Coche' object has no attribute 'num_ruedas'"
     ]
    }
   ],
   "source": [
    "coche2.num_ruedas"
   ]
  },
  {
   "cell_type": "markdown",
   "id": "895fcc28-7c13-4f15-beb6-1a7a7ab98c2c",
   "metadata": {},
   "source": [
    "El metodo **__init__** inicializa nuevas instancias de la clase **Coche**, donde inicializa algunos atributos que se pueden acceder haciendo uso del caracter '.' o de **getattr**.\n",
    "\n",
    "Los atributos pueden ser tan complejos como se requiera. Pueden contener otros objetos, y no solo simples literales, con el fin de crear clases y tipos mas complejos como las clases contenedoras, tales como las listas, los diccionarios o las tuplas.\n",
    "\n",
    "Como se puede ver en estos ejemplos, trabajar con objetos en python es algo muy simple y se puede hacer de manera natural."
   ]
  },
  {
   "cell_type": "markdown",
   "id": "b9304802-d481-436e-90d7-e089bece484c",
   "metadata": {
    "tags": []
   },
   "source": [
    "<h3>Operar con los atributos</h3>\n",
    "\n",
    "Aunque la forma dea cceder y asignar las variables a los atributos es usando el caracter '.' , Python provee las siguientes herramientas para poder acceder, comprobar la existencia, eliminar y actualizar los atributos:\n",
    "\n",
    "<ul>\n",
    "    <li><b>getattr</b>(objeto, nombre[, valor_por_defecto]): devuelve el valor del <b>nombre</b> que corresponde el atributo en el <b>objeto</b> que se pasa como primer argumento. El nombre debe ser una cadena de carecteres. Si no existe e atributo, se devuelve el <b>valor_por_defecto</b> (si se ha pasado como argumento). De lo contrario, se elevaráuna exceion del <b>AttributeError</b>\n",
    "    </li>\n",
    "    <li><b>setattr</b>(objeto, nombre, valor): permite asignar el valor especificado en valor, al objeto especificado e objeto añadiendo un atributo especificado por la cadena de caracteres nombre. Se puede utilizar cualquier valor y cualquier nombre, dado que nombre es una cadena de caracteres pero si pretende poder utilizar el acceso usando '.', nombre deberia ser un identifacdor valido.\n",
    "    </li>\n",
    "    <li><b>hasattr</b>(objeto, nombre): permite comprobar la presencia del atributo especificado por la cedena de caracteres nombre en el objeto especificado en objeto. El resultado será True si existe el atributo en el objeto. De lo contrario. será False\n",
    "    </li>\n",
    "    <li><b>delattr</b>(objeto, nombre): permite eliminar el atributo especificado por la cadena de caracteres nombre del objeto especificado en objeto.\n",
    "    </li>\n",
    "</ul>\n",
    "\n",
    "A continuacion se muestran algunos ejemplos del uso de estas funciones:"
   ]
  },
  {
   "cell_type": "code",
   "execution_count": 13,
   "id": "c56d1997-73eb-4091-89ad-7e8fe94e0564",
   "metadata": {},
   "outputs": [
    {
     "data": {
      "text/plain": [
       "{'color': 'Rojo', 'marca': 'Harley', 'modelo': 'AQ112'}"
      ]
     },
     "execution_count": 13,
     "metadata": {},
     "output_type": "execute_result"
    }
   ],
   "source": [
    "class Moto():\n",
    "    def __init__(self, color, marca, modelo):\n",
    "        self.color  = color\n",
    "        self.marca  = marca\n",
    "        self.modelo = modelo\n",
    "        \n",
    "c = Moto(\"Rojo\", \"Harley\", \"AQ112\")\n",
    "vars(c)"
   ]
  },
  {
   "cell_type": "code",
   "execution_count": 15,
   "id": "456b85b7-3d9e-4c4a-aed9-f8fb098037ad",
   "metadata": {},
   "outputs": [
    {
     "data": {
      "text/plain": [
       "3"
      ]
     },
     "execution_count": 15,
     "metadata": {},
     "output_type": "execute_result"
    }
   ],
   "source": [
    "setattr(c, \"num_ruedas\", 3)\n",
    "c.num_ruedas"
   ]
  },
  {
   "cell_type": "code",
   "execution_count": 16,
   "id": "2d035ffe-028d-4cdf-ad9d-c4eef45c4ea2",
   "metadata": {},
   "outputs": [
    {
     "data": {
      "text/plain": [
       "'Harley'"
      ]
     },
     "execution_count": 16,
     "metadata": {},
     "output_type": "execute_result"
    }
   ],
   "source": [
    "getattr(c, \"marca\")"
   ]
  },
  {
   "cell_type": "code",
   "execution_count": 18,
   "id": "3b9e75c2-8a0b-4590-aa33-529c5abff1b2",
   "metadata": {},
   "outputs": [
    {
     "ename": "AttributeError",
     "evalue": "color",
     "output_type": "error",
     "traceback": [
      "\u001b[1;31m---------------------------------------------------------------------------\u001b[0m",
      "\u001b[1;31mAttributeError\u001b[0m                            Traceback (most recent call last)",
      "Input \u001b[1;32mIn [18]\u001b[0m, in \u001b[0;36m<cell line: 1>\u001b[1;34m()\u001b[0m\n\u001b[1;32m----> 1\u001b[0m \u001b[38;5;28;43mdelattr\u001b[39;49m\u001b[43m(\u001b[49m\u001b[43mc\u001b[49m\u001b[43m,\u001b[49m\u001b[43m \u001b[49m\u001b[38;5;124;43m\"\u001b[39;49m\u001b[38;5;124;43mcolor\u001b[39;49m\u001b[38;5;124;43m\"\u001b[39;49m\u001b[43m)\u001b[49m\n\u001b[0;32m      2\u001b[0m c\u001b[38;5;241m.\u001b[39mcolor\n",
      "\u001b[1;31mAttributeError\u001b[0m: color"
     ]
    }
   ],
   "source": [
    "delattr(c, \"color\")\n",
    "c.color"
   ]
  },
  {
   "cell_type": "code",
   "execution_count": 19,
   "id": "d2cb0b14-a5f3-4a1c-b463-db1e5641a676",
   "metadata": {},
   "outputs": [
    {
     "data": {
      "text/plain": [
       "False"
      ]
     },
     "execution_count": 19,
     "metadata": {},
     "output_type": "execute_result"
    }
   ],
   "source": [
    "hasattr(c, \"rayo\")"
   ]
  },
  {
   "cell_type": "code",
   "execution_count": 20,
   "id": "ce06f981-d59e-4d39-b167-3b744e4ae111",
   "metadata": {},
   "outputs": [
    {
     "data": {
      "text/plain": [
       "True"
      ]
     },
     "execution_count": 20,
     "metadata": {},
     "output_type": "execute_result"
    }
   ],
   "source": [
    "hasattr(c, \"marca\")"
   ]
  },
  {
   "cell_type": "markdown",
   "id": "73ee1f51-265d-49d8-b9b1-76b00dc6af25",
   "metadata": {},
   "source": [
    "Como se puede ver en los ejemplos, se pueden usar estas funciones a la hora de operar con atributos, aunque por simplicidad, legibilidad del codigo y porque salvo **hasattr**, los demas son equivalentes, se recomienda usar la version simplificada con el caracter '.'"
   ]
  },
  {
   "cell_type": "markdown",
   "id": "6252a75c-2048-4fd6-89af-7c86b0cdf405",
   "metadata": {},
   "source": [
    "<h3>Atributos de clases</h3>\n",
    "\n",
    "Los atributos que se han presentado hasta ahora son atributos de instancia y no son compartidos entre instancias de la misma clase. Ahora bien, Python permite crear atributos de clase que si son compartidos por todas las instancias y pueden contener informacion comun.\n",
    "\n",
    "Los atrubitos de clase se definen en la definicion de la clase añadiendo los atributos en el primer nivel del bloque logico, como se puede ver en el siguiente ejemplo:"
   ]
  },
  {
   "cell_type": "code",
   "execution_count": 1,
   "id": "9c1374ec-c26c-4ee2-8107-ccffa92370ec",
   "metadata": {},
   "outputs": [],
   "source": [
    "class Gato:\n",
    "    num_patas = 4\n",
    "    orejas = 2\n",
    "    nombres = []\n",
    "    def __init__(self, nombre):\n",
    "        self.nombre = nombre\n",
    "        self.nombres.append(nombre)"
   ]
  },
  {
   "cell_type": "code",
   "execution_count": 2,
   "id": "1caea1c3-c000-40a1-a50c-48cb9dd18077",
   "metadata": {},
   "outputs": [],
   "source": [
    "garfiel = Gato(\"Garfield\")\n",
    "bigotes = Gato(\"Bigotes\")"
   ]
  },
  {
   "cell_type": "code",
   "execution_count": 3,
   "id": "4df74f82-e156-496f-80fb-5c85135b3849",
   "metadata": {},
   "outputs": [
    {
     "data": {
      "text/plain": [
       "(4, 4)"
      ]
     },
     "execution_count": 3,
     "metadata": {},
     "output_type": "execute_result"
    }
   ],
   "source": [
    "garfiel.num_patas, bigotes.num_patas"
   ]
  },
  {
   "cell_type": "code",
   "execution_count": 4,
   "id": "ebfee24f-ff32-43a8-9168-598370733eb5",
   "metadata": {},
   "outputs": [
    {
     "data": {
      "text/plain": [
       "(1, 2)"
      ]
     },
     "execution_count": 4,
     "metadata": {},
     "output_type": "execute_result"
    }
   ],
   "source": [
    "garfiel.orejas = 1\n",
    "garfiel.orejas, bigotes.orejas"
   ]
  },
  {
   "cell_type": "markdown",
   "id": "f2eb83f3-ef0a-414d-bdf7-f7209ad703a2",
   "metadata": {},
   "source": [
    "Como se puede ver en el ejemplo, todos los gatos tienen un número de patas (**num_patas**) y número de orejas (**orejas**) con los valores por defecto 4 y 2, especificado en la clase **Gato**, pero cuando se instancian los objetos **garfiel** y **bigotes**, se pueden modificar los valores de cada instancia.\n",
    "\n",
    "Al añadir atributos de clase, no solo se establecen los valores por defecto para cada instancia, sino que se puede acceder a esos atributos por medio de la clase sin instanciar ningun objeto:"
   ]
  },
  {
   "cell_type": "code",
   "execution_count": 5,
   "id": "ac06cbf4-ab0e-4ecf-89f7-7400819cf2c2",
   "metadata": {},
   "outputs": [
    {
     "data": {
      "text/plain": [
       "mappingproxy({'__module__': '__main__',\n",
       "              'num_patas': 4,\n",
       "              'orejas': 2,\n",
       "              'nombres': ['Garfield', 'Bigotes'],\n",
       "              '__init__': <function __main__.Gato.__init__(self, nombre)>,\n",
       "              '__dict__': <attribute '__dict__' of 'Gato' objects>,\n",
       "              '__weakref__': <attribute '__weakref__' of 'Gato' objects>,\n",
       "              '__doc__': None})"
      ]
     },
     "execution_count": 5,
     "metadata": {},
     "output_type": "execute_result"
    }
   ],
   "source": [
    "vars(Gato)"
   ]
  },
  {
   "cell_type": "code",
   "execution_count": 6,
   "id": "c1c65d0a-c18b-46ce-a055-5363ecdeea50",
   "metadata": {},
   "outputs": [
    {
     "data": {
      "text/plain": [
       "4"
      ]
     },
     "execution_count": 6,
     "metadata": {},
     "output_type": "execute_result"
    }
   ],
   "source": [
    "Gato.num_patas"
   ]
  },
  {
   "cell_type": "code",
   "execution_count": 7,
   "id": "e2a422c8-e0c1-4678-9a1e-06e5e81da6d2",
   "metadata": {},
   "outputs": [
    {
     "ename": "AttributeError",
     "evalue": "type object 'Gato' has no attribute 'nombre'",
     "output_type": "error",
     "traceback": [
      "\u001b[1;31m---------------------------------------------------------------------------\u001b[0m",
      "\u001b[1;31mAttributeError\u001b[0m                            Traceback (most recent call last)",
      "Input \u001b[1;32mIn [7]\u001b[0m, in \u001b[0;36m<cell line: 1>\u001b[1;34m()\u001b[0m\n\u001b[1;32m----> 1\u001b[0m \u001b[43mGato\u001b[49m\u001b[38;5;241;43m.\u001b[39;49m\u001b[43mnombre\u001b[49m\n",
      "\u001b[1;31mAttributeError\u001b[0m: type object 'Gato' has no attribute 'nombre'"
     ]
    }
   ],
   "source": [
    "Gato.nombre"
   ]
  },
  {
   "cell_type": "markdown",
   "id": "d7e0aba8-1be0-494d-909b-027bd62d3768",
   "metadata": {},
   "source": [
    "Como se muestra en el ejempo, como los atributos **num_patas** y **orejas** están definidos a nivel de clase, se pueden consultar esos valores sin tener que crear una instancia de **Gato**. Sin embargo, si se intenta acceder al atributo **nombre**, que se inicializa en **__init__**, no se podrá acceder, dado que la clase en sí no tiene ese atributo, sino que se crea al inicializar una instancia de la clase **Gato**.\n",
    "\n",
    "Al utilizar atributos de clase hay que prestar especial atencion a la mutabilidad de los objetos que se usan para asignar los valores, dado que al estar en el contexto de clase y no de instancia, si cualquier instancia modifica los atributos de clase en cualquier momento, por ejemplo, al instanciar la clase en el metodo **__init__**, estará modificando tambien los atributos de todas las instancias de la misma clase. Ocurre lo mismo si los atributos de la clase se modifican directamente, en cambio se propaga por todas las instancias que no definan el atributo en la instancia:"
   ]
  },
  {
   "cell_type": "code",
   "execution_count": 8,
   "id": "3283561d-fead-4931-b32f-19b3e1bee45c",
   "metadata": {},
   "outputs": [
    {
     "data": {
      "text/plain": [
       "['Garfield', 'Bigotes']"
      ]
     },
     "execution_count": 8,
     "metadata": {},
     "output_type": "execute_result"
    }
   ],
   "source": [
    "Gato.nombres"
   ]
  },
  {
   "cell_type": "code",
   "execution_count": 9,
   "id": "6a196379-0601-4491-9b14-856aa0598517",
   "metadata": {},
   "outputs": [
    {
     "data": {
      "text/plain": [
       "['Garfield', 'Bigotes']"
      ]
     },
     "execution_count": 9,
     "metadata": {},
     "output_type": "execute_result"
    }
   ],
   "source": [
    "bigotes.nombres"
   ]
  },
  {
   "cell_type": "code",
   "execution_count": 17,
   "id": "ddff715e-f07b-4103-808b-211f971c7b2c",
   "metadata": {},
   "outputs": [],
   "source": [
    "garfiel.nombres = [] #crea un atributo en la instancia garfiel"
   ]
  },
  {
   "cell_type": "code",
   "execution_count": 11,
   "id": "2070ea74-d4e5-4b3e-a985-a9b2053f1a31",
   "metadata": {},
   "outputs": [
    {
     "data": {
      "text/plain": [
       "['Garfield', 'Bigotes']"
      ]
     },
     "execution_count": 11,
     "metadata": {},
     "output_type": "execute_result"
    }
   ],
   "source": [
    "Gato.nombres"
   ]
  },
  {
   "cell_type": "code",
   "execution_count": 12,
   "id": "8f6178d1-d084-4a00-95c9-93ffd385d021",
   "metadata": {},
   "outputs": [
    {
     "data": {
      "text/plain": [
       "[]"
      ]
     },
     "execution_count": 12,
     "metadata": {},
     "output_type": "execute_result"
    }
   ],
   "source": [
    "garfiel.nombres"
   ]
  },
  {
   "cell_type": "code",
   "execution_count": 18,
   "id": "1da8928c-8731-4eb6-9bc8-84229d33449a",
   "metadata": {},
   "outputs": [
    {
     "data": {
      "text/plain": [
       "['Juan', 'Pedro']"
      ]
     },
     "execution_count": 18,
     "metadata": {},
     "output_type": "execute_result"
    }
   ],
   "source": [
    "Gato.nombres = [\"Juan\", \"Pedro\"] #modifica la clase y afecta a las instancias\n",
    "Gato.nombres"
   ]
  },
  {
   "cell_type": "code",
   "execution_count": 19,
   "id": "360545ed-7b7a-45f9-a226-e878c2df2aa3",
   "metadata": {},
   "outputs": [
    {
     "data": {
      "text/plain": [
       "['Juan', 'Pedro']"
      ]
     },
     "execution_count": 19,
     "metadata": {},
     "output_type": "execute_result"
    }
   ],
   "source": [
    "bigotes.nombres #Al no definir nombres en la instancia, usa la clase que ha sido modificado"
   ]
  },
  {
   "cell_type": "code",
   "execution_count": 20,
   "id": "9b3c4ccd-f4e9-4763-beb4-970d2ad562b6",
   "metadata": {},
   "outputs": [
    {
     "data": {
      "text/plain": [
       "[]"
      ]
     },
     "execution_count": 20,
     "metadata": {},
     "output_type": "execute_result"
    }
   ],
   "source": [
    "garfiel.nombres #Al definir su propio atributo, no le afectan los cambios en el atributo de la clase"
   ]
  },
  {
   "cell_type": "markdown",
   "id": "012460dc-8638-4e08-a7cd-cebbcf1806ae",
   "metadata": {},
   "source": [
    "Como se puede ver en los ejemplos anteriores, es muy facil provocar efectos colaterales al usar objetos mutables como valores de atributos de clase. Por este motivo, **hay que prestarles espcial atencion** y tener claro el contexto en el que se estan creando o modificando atributos, **si es a nivel de instancia o nivel de clase.**"
   ]
  },
  {
   "cell_type": "markdown",
   "id": "2620562f-aa1c-4097-8209-ca15931ac6b2",
   "metadata": {},
   "source": [
    "<h3>Nombres y privacidad en clases</h3>\n",
    "\n",
    "Para los atributos y los nombres de metodos en Python existe una convención: el uso de caracteres _ para definir la privacidad.\n",
    "\n",
    "<ul>\n",
    "    <li><b>_como prefijo</b>: cuando se utiliza un solo caracter _ significa que ese atributo o metodo debe considerarse protegido para la clase y no se deberia usar fuera de la misma. Muchos de los IDE actaules mostrarán un aviso al hacer uso de identificadores nombreados así.\n",
    "    </li>\n",
    "    <li><b>__como prefijo</b>: cuando se utiliza dos caracteres _ significa que el atributo o metodo es privado y se requiere encarecidamente que no se use fuera del ambito de la clase. Para este tipo de nombre, Python implementa lo que se denomina <b>name mangling</b>, que consiste en que los nombres se cambian añadiendo el nombre de clase para que, así, sean más faciles de adivinar y no puedan causar colisiones facilmente con otros metodos o atributos de la misma clase o de cualquier clase que herede de la misma.\n",
    "    </li>\n",
    "    <li>Cabe destacar  que en python no existen los conceptos de privacidad que hay en otros lenguajes como por ejemplo Java, en el que se pueden definir propiedades como \"privado\" o \"protegido\". En vez de eso, en Python todos los metodos o atributos estan disponibles si se conocen las reglas seguidas para la creacion de sus nombres.\n",
    "    </li>\n",
    "</ul>\n",
    "\n",
    "A continuacion se muestra un ejemplo de la manipulacion de nombres:"
   ]
  },
  {
   "cell_type": "code",
   "execution_count": 21,
   "id": "7777a791-1623-426f-89e5-5c77b8e5c000",
   "metadata": {},
   "outputs": [],
   "source": [
    "class Foo:\n",
    "    _atributo_protegido = 0\n",
    "    __atributo_privado = 0\n",
    "    \n",
    "    def __init__(self, x):\n",
    "        self.x = x\n",
    "        self._x = x * 2\n",
    "        self.__x = x * 3\n",
    "    \n",
    "    def obtener_x(self):\n",
    "        return self.x\n",
    "    def obtener_x_protegida(self):\n",
    "        return self._x\n",
    "    def obtener_x_privada(self):\n",
    "        return self.__x"
   ]
  },
  {
   "cell_type": "code",
   "execution_count": 22,
   "id": "b1ae2391-85d7-4d22-b5b6-b5eb43ac60ac",
   "metadata": {},
   "outputs": [
    {
     "name": "stdout",
     "output_type": "stream",
     "text": [
      "['_Foo__atributo_privado', '_Foo__x', '__class__', '__delattr__', '__dict__', '__dir__', '__doc__', '__eq__', '__format__', '__ge__', '__getattribute__', '__gt__', '__hash__', '__init__', '__init_subclass__', '__le__', '__lt__', '__module__', '__ne__', '__new__', '__reduce__', '__reduce_ex__', '__repr__', '__setattr__', '__sizeof__', '__str__', '__subclasshook__', '__weakref__', '_atributo_protegido', '_x', 'obtener_x', 'obtener_x_privada', 'obtener_x_protegida', 'x']\n"
     ]
    }
   ],
   "source": [
    "f = Foo(2)\n",
    "print(dir(f))"
   ]
  },
  {
   "cell_type": "code",
   "execution_count": 23,
   "id": "b48b9f46-6b38-4011-9938-c8338cc89726",
   "metadata": {},
   "outputs": [
    {
     "name": "stdout",
     "output_type": "stream",
     "text": [
      "2\n"
     ]
    }
   ],
   "source": [
    "print(f.x)"
   ]
  },
  {
   "cell_type": "code",
   "execution_count": 24,
   "id": "01866493-6593-48c1-8f2d-013a96936ab7",
   "metadata": {},
   "outputs": [
    {
     "name": "stdout",
     "output_type": "stream",
     "text": [
      "4\n"
     ]
    }
   ],
   "source": [
    "print(f._x)"
   ]
  },
  {
   "cell_type": "code",
   "execution_count": 25,
   "id": "f5cf5354-31a1-4bca-84da-0e1bcce2642d",
   "metadata": {},
   "outputs": [
    {
     "ename": "AttributeError",
     "evalue": "'Foo' object has no attribute '__x'",
     "output_type": "error",
     "traceback": [
      "\u001b[1;31m---------------------------------------------------------------------------\u001b[0m",
      "\u001b[1;31mAttributeError\u001b[0m                            Traceback (most recent call last)",
      "Input \u001b[1;32mIn [25]\u001b[0m, in \u001b[0;36m<cell line: 1>\u001b[1;34m()\u001b[0m\n\u001b[1;32m----> 1\u001b[0m \u001b[38;5;28mprint\u001b[39m(\u001b[43mf\u001b[49m\u001b[38;5;241;43m.\u001b[39;49m\u001b[43m__x\u001b[49m)\n",
      "\u001b[1;31mAttributeError\u001b[0m: 'Foo' object has no attribute '__x'"
     ]
    }
   ],
   "source": [
    "print(f.__x)"
   ]
  },
  {
   "cell_type": "code",
   "execution_count": 26,
   "id": "98faac46-7a66-4a7a-8157-418477196132",
   "metadata": {},
   "outputs": [
    {
     "name": "stdout",
     "output_type": "stream",
     "text": [
      "6\n"
     ]
    }
   ],
   "source": [
    "print(f._Foo__x)"
   ]
  },
  {
   "cell_type": "code",
   "execution_count": 30,
   "id": "26ada10d-6e59-4308-863f-2bda1cbb0b1c",
   "metadata": {},
   "outputs": [
    {
     "name": "stdout",
     "output_type": "stream",
     "text": [
      "0\n"
     ]
    }
   ],
   "source": [
    "print(Foo._atributo_protegido)"
   ]
  },
  {
   "cell_type": "code",
   "execution_count": 29,
   "id": "8f168697-116b-4419-8297-11c39835b9b6",
   "metadata": {},
   "outputs": [
    {
     "ename": "AttributeError",
     "evalue": "type object 'Foo' has no attribute '__atributo_privado'",
     "output_type": "error",
     "traceback": [
      "\u001b[1;31m---------------------------------------------------------------------------\u001b[0m",
      "\u001b[1;31mAttributeError\u001b[0m                            Traceback (most recent call last)",
      "Input \u001b[1;32mIn [29]\u001b[0m, in \u001b[0;36m<cell line: 1>\u001b[1;34m()\u001b[0m\n\u001b[1;32m----> 1\u001b[0m \u001b[38;5;28mprint\u001b[39m(\u001b[43mFoo\u001b[49m\u001b[38;5;241;43m.\u001b[39;49m\u001b[43m__atributo_privado\u001b[49m)\n",
      "\u001b[1;31mAttributeError\u001b[0m: type object 'Foo' has no attribute '__atributo_privado'"
     ]
    }
   ],
   "source": [
    "print(Foo.__atributo_privado)"
   ]
  },
  {
   "cell_type": "code",
   "execution_count": 31,
   "id": "089e959a-71ae-4512-aa7b-4a31dcfeda50",
   "metadata": {},
   "outputs": [
    {
     "name": "stdout",
     "output_type": "stream",
     "text": [
      "0\n"
     ]
    }
   ],
   "source": [
    "print(Foo._Foo__atributo_privado)"
   ]
  },
  {
   "cell_type": "markdown",
   "id": "4e5ef286-40f2-42a7-bd3c-8545d187c598",
   "metadata": {},
   "source": [
    "Como se puede ver el ejemplo anterior, todos los atributos estan listados por defecto tras hacer uso de la funcion **dir**, y aunque los atributos o metodos utilicen la nomeclatura privada con los dos _ como prefijo y se ha el cambio de nombres, se sigue pudiendo acceder a ellos si se usa el nombre dinamicamente generado. En cualquier caso, esta practica es totalmente no recomendable."
   ]
  },
  {
   "cell_type": "code",
   "execution_count": null,
   "id": "2500df3f-b2e1-4f19-9fef-a94a53c7830f",
   "metadata": {},
   "outputs": [],
   "source": []
  }
 ],
 "metadata": {
  "kernelspec": {
   "display_name": "Python 3 (ipykernel)",
   "language": "python",
   "name": "python3"
  },
  "language_info": {
   "codemirror_mode": {
    "name": "ipython",
    "version": 3
   },
   "file_extension": ".py",
   "mimetype": "text/x-python",
   "name": "python",
   "nbconvert_exporter": "python",
   "pygments_lexer": "ipython3",
   "version": "3.10.5"
  }
 },
 "nbformat": 4,
 "nbformat_minor": 5
}
