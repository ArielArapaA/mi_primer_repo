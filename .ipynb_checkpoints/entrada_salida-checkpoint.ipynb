{
 "cells": [
  {
   "cell_type": "code",
   "execution_count": 2,
   "id": "3efcb71f-d0dd-4aa9-adef-2893d8eac840",
   "metadata": {},
   "outputs": [
    {
     "name": "stdin",
     "output_type": "stream",
     "text": [
      "Dame la primera cadena:  baston\n",
      "Dame la segunda cadena:  ernesto\n"
     ]
    },
    {
     "name": "stdout",
     "output_type": "stream",
     "text": [
      "erston banesto\n"
     ]
    },
    {
     "name": "stdin",
     "output_type": "stream",
     "text": [
      "Dame una cadena:  calac\n"
     ]
    },
    {
     "name": "stdout",
     "output_type": "stream",
     "text": [
      "calac\n",
      "Es palindromo\n"
     ]
    }
   ],
   "source": [
    "cadena1 = input(\"Dame la primera cadena: \")\n",
    "cadena2 = input(\"Dame la segunda cadena: \")\n",
    "print( cadena2[:2] + cadena1[2:] + \" \" + cadena1[:2] + cadena2[2:] )\n",
    "\n",
    "cadena1 = input(\"Dame una cadena: \")\n",
    "cadena_al_reves = cadena1[::-1]\n",
    "print(cadena_al_reves)\n",
    "if( cadena1 == cadena_al_reves ):\n",
    "    print(\"Es palindromo\")\n",
    "else:\n",
    "    print(\"No es palindromo\")"
   ]
  },
  {
   "cell_type": "code",
   "execution_count": 3,
   "id": "c642d7c3-401e-40a0-917f-b401f5a4253e",
   "metadata": {},
   "outputs": [
    {
     "name": "stdin",
     "output_type": "stream",
     "text": [
      "Ingrese un valor numerico: 25\n"
     ]
    },
    {
     "name": "stdout",
     "output_type": "stream",
     "text": [
      "El numero se encuentra entre 20 y 30\n"
     ]
    },
    {
     "name": "stdin",
     "output_type": "stream",
     "text": [
      "Ingrese un valor numerico: 45\n"
     ]
    },
    {
     "name": "stdout",
     "output_type": "stream",
     "text": [
      "El numero no pertenece al rango\n"
     ]
    },
    {
     "name": "stdin",
     "output_type": "stream",
     "text": [
      "Ingrese un valor numerico: 12\n"
     ]
    },
    {
     "name": "stdout",
     "output_type": "stream",
     "text": [
      "El numero se encuentra entre 10 y 20\n"
     ]
    }
   ],
   "source": [
    "i=3 # Repite el proceso 3 veces\n",
    "while(i>0):\n",
    "    numero=int(input('Ingrese un valor numerico:'))\n",
    "    if(numero>0 and numero<10):\n",
    "        print('El numero se encuentra entre 0 y 10')\n",
    "    elif(numero>10 and numero<20):\n",
    "        print('El numero se encuentra entre 10 y 20')\n",
    "    elif(numero>20 and numero<30):\n",
    "        print('El numero se encuentra entre 20 y 30')\n",
    "    else:\n",
    "        print('El numero no pertenece al rango')\n",
    "    i=i-1\n"
   ]
  },
  {
   "cell_type": "code",
   "execution_count": 5,
   "id": "173341e8-fcbf-45b7-9741-3c29335a28f7",
   "metadata": {},
   "outputs": [
    {
     "name": "stdin",
     "output_type": "stream",
     "text": [
      "Introduce el numero buscado:  34\n"
     ]
    },
    {
     "name": "stdout",
     "output_type": "stream",
     "text": [
      "El numero que buscas es mayor\n"
     ]
    },
    {
     "name": "stdin",
     "output_type": "stream",
     "text": [
      "Introduce el numero buscado:  56\n"
     ]
    },
    {
     "name": "stdout",
     "output_type": "stream",
     "text": [
      "El numero que buscas es menor\n"
     ]
    },
    {
     "name": "stdin",
     "output_type": "stream",
     "text": [
      "Introduce el numero buscado:  45\n"
     ]
    },
    {
     "name": "stdout",
     "output_type": "stream",
     "text": [
      "El numero que buscas es menor\n"
     ]
    },
    {
     "name": "stdin",
     "output_type": "stream",
     "text": [
      "Introduce el numero buscado:  40\n"
     ]
    },
    {
     "name": "stdout",
     "output_type": "stream",
     "text": [
      "El numero que buscas es menor\n"
     ]
    },
    {
     "name": "stdin",
     "output_type": "stream",
     "text": [
      "Introduce el numero buscado:  38\n"
     ]
    },
    {
     "name": "stdout",
     "output_type": "stream",
     "text": [
      "El numero que buscas es menor\n"
     ]
    },
    {
     "name": "stdin",
     "output_type": "stream",
     "text": [
      "Introduce el numero buscado:  36\n"
     ]
    },
    {
     "name": "stdout",
     "output_type": "stream",
     "text": [
      "Has acertado, el numero correcto es  36 te ha llevado 5 intentos\n"
     ]
    }
   ],
   "source": [
    "from random import *\n",
    "def generaNumeroAleatorio(minimo, maximo):\n",
    "    return randint(minimo, maximo)\n",
    "numero_buscado=generaNumeroAleatorio(1,100)\n",
    "encontrado=False\n",
    "intentos=0\n",
    "while not encontrado:\n",
    "    numero_usuario=int(input(\"Introduce el numero buscado: \"))\n",
    "    if numero_usuario>numero_buscado:\n",
    "        print(\"El numero que buscas es menor\")\n",
    "        intentos=intentos+1\n",
    "    elif numero_usuario<numero_buscado:\n",
    "        print(\"El numero que buscas es mayor\")\n",
    "        intentos=intentos+1\n",
    "    else:\n",
    "        encontrado=True\n",
    "        print(\"Has acertado, el numero correcto es \", numero_usuario, \"te ha llevado\", intentos, \"intentos\")"
   ]
  },
  {
   "cell_type": "code",
   "execution_count": null,
   "id": "b7596933-7c1f-49b5-b2e2-0819092b9581",
   "metadata": {},
   "outputs": [],
   "source": []
  }
 ],
 "metadata": {
  "kernelspec": {
   "display_name": "Python 3 (ipykernel)",
   "language": "python",
   "name": "python3"
  },
  "language_info": {
   "codemirror_mode": {
    "name": "ipython",
    "version": 3
   },
   "file_extension": ".py",
   "mimetype": "text/x-python",
   "name": "python",
   "nbconvert_exporter": "python",
   "pygments_lexer": "ipython3",
   "version": "3.10.5"
  }
 },
 "nbformat": 4,
 "nbformat_minor": 5
}
