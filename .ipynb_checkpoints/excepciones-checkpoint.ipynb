{
 "cells": [
  {
   "cell_type": "markdown",
   "id": "f9ad2d51-7692-4480-97a2-8b2d1c076212",
   "metadata": {},
   "source": [
    "<h2>Excepciones</h2>\n",
    "\n",
    "Las excepciones en python se elevan de forma fortuita( por una acción inesperada) o de forma manual (utilizando la sentencia __raise__), pero en ambos casos se detendrá la ejecucion en curso si la excepcion no es manejada de forma correcta.\n",
    "\n",
    "Python maneja las excepcines mediante el uso de las sentencias __try__ y __except__ . Al rodear un código con ellas, si ocurre alguna excepción y está programada para ser manejada, segurá el flujo normal de la ejecución en vez de parar el proceso. Si se usar except, se pueden determinar las excepciones que se esperan y establecer como la aplicacion debería comportarse ante ellas. Solo en el caso de quesea una excepcion diferente a las manejadas se propagará la excepción hacia la llamadas superiores."
   ]
  },
  {
   "cell_type": "markdown",
   "id": "7c0c57fe-3711-4af5-819f-ff257dbbe6ba",
   "metadata": {
    "tags": []
   },
   "source": [
    "<h3>Controlar el flujo de ejecución con excepciones</h3> "
   ]
  },
  {
   "cell_type": "code",
   "execution_count": 15,
   "id": "75d97ac5-363d-494a-b339-1ea39b6bc00b",
   "metadata": {},
   "outputs": [],
   "source": [
    "def busca_elemento(obj, indice_o_clave):\n",
    "    try:\n",
    "        return obj[indice_o_clave]\n",
    "    except IndexError:\n",
    "        print(f'indice \"{indice_o_clave}\" utilizada no accesible')\n",
    "    except KeyError:\n",
    "        print(f'Clave \"{indice_o_clave}\" utilizada no encontrada')\n",
    "    except Exception as e: #cualquier tipo de excepción\n",
    "        print(f'Excepcion inesperada \"{e}\"')\n",
    "        return -1\n"
   ]
  },
  {
   "cell_type": "code",
   "execution_count": 9,
   "id": "0dff3d7a-ec68-4cad-a502-660d1da238f0",
   "metadata": {},
   "outputs": [
    {
     "data": {
      "text/plain": [
       "3"
      ]
     },
     "execution_count": 9,
     "metadata": {},
     "output_type": "execute_result"
    }
   ],
   "source": [
    "obj = [1, 2, 3]\n",
    "busca_elemento(obj, 2)"
   ]
  },
  {
   "cell_type": "code",
   "execution_count": 10,
   "id": "c602c792-c7bf-4f19-83e0-56634abf718c",
   "metadata": {},
   "outputs": [
    {
     "name": "stdout",
     "output_type": "stream",
     "text": [
      "indice \"100\" utilizada no accesible\n"
     ]
    }
   ],
   "source": [
    "busca_elemento(obj, 100)"
   ]
  },
  {
   "cell_type": "code",
   "execution_count": 11,
   "id": "2b1b9292-618b-4b30-81a8-1fdee9ba4859",
   "metadata": {},
   "outputs": [
    {
     "data": {
      "text/plain": [
       "'Verde'"
      ]
     },
     "execution_count": 11,
     "metadata": {},
     "output_type": "execute_result"
    }
   ],
   "source": [
    "obj = dict(color='Verde', tipo='Coche')\n",
    "busca_elemento(obj, 'color')"
   ]
  },
  {
   "cell_type": "code",
   "execution_count": 12,
   "id": "cf87d96c-b7d9-47d5-8cce-41bcf80f36ff",
   "metadata": {},
   "outputs": [
    {
     "name": "stdout",
     "output_type": "stream",
     "text": [
      "Clave \"modelo\" utilizada no encontrada\n"
     ]
    }
   ],
   "source": [
    "busca_elemento(obj, 'modelo')"
   ]
  },
  {
   "cell_type": "code",
   "execution_count": 13,
   "id": "a4a40b4b-9543-4b17-9a0e-172b6e603be0",
   "metadata": {},
   "outputs": [
    {
     "name": "stdout",
     "output_type": "stream",
     "text": [
      "Clave \"<method 'upper' of 'str' objects>\" utilizada no encontrada\n"
     ]
    }
   ],
   "source": [
    "busca_elemento(obj, str.upper)"
   ]
  },
  {
   "cell_type": "code",
   "execution_count": 14,
   "id": "85954d1e-0583-4e79-85cf-d67365b841aa",
   "metadata": {},
   "outputs": [
    {
     "name": "stdout",
     "output_type": "stream",
     "text": [
      "Excepcion inesperada \"'set' object is not subscriptable\"\n"
     ]
    },
    {
     "data": {
      "text/plain": [
       "-1"
      ]
     },
     "execution_count": 14,
     "metadata": {},
     "output_type": "execute_result"
    }
   ],
   "source": [
    "obj = set([1, 2, 3])\n",
    "busca_elemento(obj, 'pepe')"
   ]
  },
  {
   "cell_type": "markdown",
   "id": "b1784574-8b15-4a00-9557-9d2d991e004d",
   "metadata": {},
   "source": [
    "<h3>Utilizar las trazas de error</h3>\n",
    "\n",
    "Una arte muy importante a la hora de manejar excepciones es que puedan ayudar a encontrar la causa que las ha producido. Para ello se utilizan los __Traceback__ o \"trazas de error\". Las trzas de error muestran qupe parte el codigo se estabaja ejecutando cuando ha ocurrido la excepcion, comenzando desde los contextos internos hasta el contexto principal de la ejecucion. Ademas, dan informacion del tipo de excepcion que ha sido elevada."
   ]
  },
  {
   "cell_type": "code",
   "execution_count": 16,
   "id": "f7ab2ebc-a10b-468d-a106-3063aecdb294",
   "metadata": {},
   "outputs": [
    {
     "ename": "TypeError",
     "evalue": "list indices must be integers or slices, not str",
     "output_type": "error",
     "traceback": [
      "\u001b[1;31m---------------------------------------------------------------------------\u001b[0m",
      "\u001b[1;31mTypeError\u001b[0m                                 Traceback (most recent call last)",
      "Input \u001b[1;32mIn [16]\u001b[0m, in \u001b[0;36m<cell line: 6>\u001b[1;34m()\u001b[0m\n\u001b[0;32m      3\u001b[0m         x[elem]\n\u001b[0;32m      4\u001b[0m     foo([\u001b[38;5;241m1\u001b[39m, \u001b[38;5;241m2\u001b[39m, \u001b[38;5;241m3\u001b[39m])\n\u001b[1;32m----> 6\u001b[0m \u001b[43mfuncion_prueba\u001b[49m\u001b[43m(\u001b[49m\u001b[38;5;124;43m'\u001b[39;49m\u001b[38;5;124;43m1\u001b[39;49m\u001b[38;5;124;43m'\u001b[39;49m\u001b[43m)\u001b[49m\n",
      "Input \u001b[1;32mIn [16]\u001b[0m, in \u001b[0;36mfuncion_prueba\u001b[1;34m(elem)\u001b[0m\n\u001b[0;32m      2\u001b[0m \u001b[38;5;28;01mdef\u001b[39;00m \u001b[38;5;21mfoo\u001b[39m(x):\n\u001b[0;32m      3\u001b[0m     x[elem]\n\u001b[1;32m----> 4\u001b[0m \u001b[43mfoo\u001b[49m\u001b[43m(\u001b[49m\u001b[43m[\u001b[49m\u001b[38;5;241;43m1\u001b[39;49m\u001b[43m,\u001b[49m\u001b[43m \u001b[49m\u001b[38;5;241;43m2\u001b[39;49m\u001b[43m,\u001b[49m\u001b[43m \u001b[49m\u001b[38;5;241;43m3\u001b[39;49m\u001b[43m]\u001b[49m\u001b[43m)\u001b[49m\n",
      "Input \u001b[1;32mIn [16]\u001b[0m, in \u001b[0;36mfuncion_prueba.<locals>.foo\u001b[1;34m(x)\u001b[0m\n\u001b[0;32m      2\u001b[0m \u001b[38;5;28;01mdef\u001b[39;00m \u001b[38;5;21mfoo\u001b[39m(x):\n\u001b[1;32m----> 3\u001b[0m     \u001b[43mx\u001b[49m\u001b[43m[\u001b[49m\u001b[43melem\u001b[49m\u001b[43m]\u001b[49m\n",
      "\u001b[1;31mTypeError\u001b[0m: list indices must be integers or slices, not str"
     ]
    }
   ],
   "source": [
    "def funcion_prueba(elem):\n",
    "    def foo(x):\n",
    "        x[elem]\n",
    "    foo([1, 2, 3])\n",
    "\n",
    "funcion_prueba('1')"
   ]
  },
  {
   "cell_type": "code",
   "execution_count": 17,
   "id": "e2c76449-2c9a-4ccd-b5b2-7f1463838fda",
   "metadata": {},
   "outputs": [],
   "source": [
    "#Los trazos de errores se deben leer de abajoa hacia arriba; así se puede encontrar la informacion desde el contexto mas interno hasya el contexto principal."
   ]
  },
  {
   "cell_type": "code",
   "execution_count": 21,
   "id": "cd447e07-181a-43da-bb20-22ae3b193602",
   "metadata": {},
   "outputs": [
    {
     "ename": "AttributeError",
     "evalue": "'str' object has no attribute 'trim'",
     "output_type": "error",
     "traceback": [
      "\u001b[1;31m---------------------------------------------------------------------------\u001b[0m",
      "\u001b[1;31mAttributeError\u001b[0m                            Traceback (most recent call last)",
      "Input \u001b[1;32mIn [21]\u001b[0m, in \u001b[0;36m<cell line: 16>\u001b[1;34m()\u001b[0m\n\u001b[0;32m     14\u001b[0m         resultado\u001b[38;5;241m.\u001b[39mappend(formatea(elem))\n\u001b[0;32m     16\u001b[0m \u001b[38;5;28;01mif\u001b[39;00m \u001b[38;5;18m__name__\u001b[39m \u001b[38;5;241m==\u001b[39m \u001b[38;5;124m'\u001b[39m\u001b[38;5;124m__main__\u001b[39m\u001b[38;5;124m'\u001b[39m:\n\u001b[1;32m---> 17\u001b[0m     \u001b[38;5;28mprint\u001b[39m(\u001b[43mformateador\u001b[49m\u001b[43m(\u001b[49m\u001b[38;5;124;43m'\u001b[39;49m\u001b[38;5;124;43m Jose \u001b[39;49m\u001b[38;5;124;43m'\u001b[39;49m\u001b[43m)\u001b[49m)\n\u001b[0;32m     18\u001b[0m     \u001b[38;5;28mprint\u001b[39m(formateador(\u001b[38;5;241m2\u001b[39m))\n",
      "Input \u001b[1;32mIn [21]\u001b[0m, in \u001b[0;36mformateador\u001b[1;34m(elementos)\u001b[0m\n\u001b[0;32m     12\u001b[0m resultado \u001b[38;5;241m=\u001b[39m []\n\u001b[0;32m     13\u001b[0m \u001b[38;5;28;01mfor\u001b[39;00m elem \u001b[38;5;129;01min\u001b[39;00m elementos:\n\u001b[1;32m---> 14\u001b[0m     resultado\u001b[38;5;241m.\u001b[39mappend(\u001b[43mformatea\u001b[49m\u001b[43m(\u001b[49m\u001b[43melem\u001b[49m\u001b[43m)\u001b[49m)\n",
      "Input \u001b[1;32mIn [21]\u001b[0m, in \u001b[0;36mformatea\u001b[1;34m(elem)\u001b[0m\n\u001b[0;32m      6\u001b[0m \u001b[38;5;28;01mdef\u001b[39;00m \u001b[38;5;21mformatea\u001b[39m(elem):\n\u001b[1;32m----> 7\u001b[0m     limpio \u001b[38;5;241m=\u001b[39m \u001b[43melem\u001b[49m\u001b[38;5;241;43m.\u001b[39;49m\u001b[43mtrim\u001b[49m()\n\u001b[0;32m      8\u001b[0m     capitalizado \u001b[38;5;241m=\u001b[39m capitalizar(limpio)\n\u001b[0;32m      9\u001b[0m     \u001b[38;5;28;01mreturn\u001b[39;00m capitalizado\n",
      "\u001b[1;31mAttributeError\u001b[0m: 'str' object has no attribute 'trim'"
     ]
    }
   ],
   "source": [
    "#El siuiente codio está guardado en un fichero y se ejecuta desde consola para ver como se resentan los errores cuando se utilizan ficheros:\n",
    "\n",
    "def capitalizar(elem):\n",
    "    return elem.capitalize()\n",
    "\n",
    "def formatea(elem):\n",
    "    limpio = elem.trim()\n",
    "    capitalizado = capitalizar(limpio)\n",
    "    return capitalizado\n",
    "\n",
    "def formateador(elementos):\n",
    "    resultado = []\n",
    "    for elem in elementos:\n",
    "        resultado.append(formatea(elem))\n",
    "        \n",
    "if __name__ == '__main__':\n",
    "    print(formateador(' Jose '))\n",
    "    print(formateador(2))"
   ]
  },
  {
   "cell_type": "code",
   "execution_count": 22,
   "id": "b7be4f77-e07d-46d9-a62a-277f4866d4a7",
   "metadata": {},
   "outputs": [],
   "source": [
    "# Traceback (most recent call last):\n",
    "#   File \"c:\\Users\\Arbusta\\Desktop\\DataJump\\algo.py\", line 15, in <module>\n",
    "#     print(formateador(' Jose '))\n",
    "#   File \"c:\\Users\\Arbusta\\Desktop\\DataJump\\algo.py\", line 12, in formateador \n",
    "#     resultado.append(formatea(elem))\n",
    "#   File \"c:\\Users\\Arbusta\\Desktop\\DataJump\\algo.py\", line 5, in formatea     \n",
    "#     limpio = elem.trim()\n",
    "# AttributeError: 'str' object has no attribute 'trim'. Did you mean: 'strip'?"
   ]
  },
  {
   "cell_type": "code",
   "execution_count": 23,
   "id": "f239b226-84a3-443c-8414-bfedbd5200c2",
   "metadata": {},
   "outputs": [],
   "source": [
    "#En este ejemplo se puede ver como es una traza de error cuando ocurre en ficheros."
   ]
  },
  {
   "cell_type": "markdown",
   "id": "a2891ff7-dd31-4784-bf1c-a6bf1e7e2237",
   "metadata": {},
   "source": [
    "Para obtener un objeto __Traceback__ se puede hacer uso de __sys.exc_info()__ dentro del contexto de la excepcion que se ha elevado, como en el siguiente ejemplo:"
   ]
  },
  {
   "cell_type": "code",
   "execution_count": 24,
   "id": "352cf59f-c377-4d82-b8ea-07ea88db3aee",
   "metadata": {},
   "outputs": [
    {
     "name": "stdout",
     "output_type": "stream",
     "text": [
      "(<class 'NameError'>, NameError(\"name 'b' is not defined\"), <traceback object at 0x000001F0E3BFA4C0>)\n"
     ]
    }
   ],
   "source": [
    "import sys\n",
    "try:\n",
    "    b\n",
    "except Exception:\n",
    "    print(sys.exc_info())"
   ]
  },
  {
   "cell_type": "markdown",
   "id": "51af4a7c-bcff-4ef3-82da-34200e2be50f",
   "metadata": {},
   "source": [
    "Este método devuelve una tupla en la que el primer elemento es la clase de la excepcion que ha sido elevada, el segundo es la instancia de la excepcion y el tercero es la traza de la ejecucion.\n",
    "\n",
    "Cuando se hace manejo de excepciones, se pueden encadenar trazas de ejecucion o diferirlas a diferentes fuentes, como pueden crear excepciones nuevas que tengan la traza original  del error de la siguiente forma:"
   ]
  },
  {
   "cell_type": "code",
   "execution_count": 25,
   "id": "5138689f-9967-43a3-803f-87a6db688ebe",
   "metadata": {},
   "outputs": [],
   "source": [
    "try:\n",
    "    ...\n",
    "except AlgunaException:\n",
    "    tb = sys.exc_info()[2]\n",
    "    raise OtraExcepcion(...).with_traceback(tb)"
   ]
  },
  {
   "cell_type": "markdown",
   "id": "bb40e528-0789-4072-9dd8-ff422cbfe847",
   "metadata": {},
   "source": [
    "si se hace uso de la libreria Traceback (https://docs.python.org/3/library/traceback.html), la traza se puede imprimir facilmente utilizando __traceback.print_tb__ o __traceback.print_exception__, entre otras funciones utiles."
   ]
  },
  {
   "cell_type": "markdown",
   "id": "7b5c38b6-6866-4592-8716-2c1b9d63e94d",
   "metadata": {},
   "source": [
    "<h3>Excepciones conocidas</h3>\n",
    "\n",
    "Todas las excepciones tienen una clase común, que es __BaseException__, la cual tiene una propiedad denomianda **args** y un metodo **with_taceback**. Todas las demas excepciones heredan de esta clase y aportan informacion as especifica sobre el suceso ocurrido."
   ]
  },
  {
   "cell_type": "markdown",
   "id": "90cb940a-521b-4139-a866-e1d21e6f91d4",
   "metadata": {},
   "source": [
    "<h4>AttributeError</h4>\n",
    "\n",
    "Esta excepcion aparece cuando se intenta acceder a un atributo de un objeto que no está presente en el mismo o cuando una asignacion falla, como en los siguientes ejemplos:"
   ]
  },
  {
   "cell_type": "code",
   "execution_count": 1,
   "id": "c0ac189b-3e3d-4218-8cbb-32c86401a352",
   "metadata": {},
   "outputs": [
    {
     "ename": "AttributeError",
     "evalue": "'int' object has no attribute 'upper'",
     "output_type": "error",
     "traceback": [
      "\u001b[1;31m---------------------------------------------------------------------------\u001b[0m",
      "\u001b[1;31mAttributeError\u001b[0m                            Traceback (most recent call last)",
      "Input \u001b[1;32mIn [1]\u001b[0m, in \u001b[0;36m<cell line: 2>\u001b[1;34m()\u001b[0m\n\u001b[0;32m      1\u001b[0m entero \u001b[38;5;241m=\u001b[39m \u001b[38;5;241m2\u001b[39m\n\u001b[1;32m----> 2\u001b[0m \u001b[43mentero\u001b[49m\u001b[38;5;241;43m.\u001b[39;49m\u001b[43mupper\u001b[49m()\n",
      "\u001b[1;31mAttributeError\u001b[0m: 'int' object has no attribute 'upper'"
     ]
    }
   ],
   "source": [
    "entero = 2\n",
    "entero.upper()"
   ]
  },
  {
   "cell_type": "markdown",
   "id": "7d373f60-78c8-4262-9985-816091c02428",
   "metadata": {},
   "source": [
    "como se puede ver, es muy facil identificar la causa del error, dado que en el mensaje de excepcion aparece el tipo del objeto sobre el que se ha intentado llamar al tributo y el atributo inexistente en el objeto."
   ]
  },
  {
   "cell_type": "markdown",
   "id": "308dfaa7-d86c-488a-9e82-f66edb634d3a",
   "metadata": {},
   "source": [
    "<h4>ImportError</h4>\n",
    "\n",
    "Esta excepcion ocurre cuando el comando **import** tiene problemas para importar la libreria o cuando la forma **from ... import** no encuentra la libreria que se pretende importar. Se puede obtener **ImportError** o una subclase de eesta excepcion, que es **ModuleNotFoundError**, como se puede ver en los siguientes ejemplos:"
   ]
  },
  {
   "cell_type": "code",
   "execution_count": 2,
   "id": "314a0496-86fe-47f7-bb76-782c53d9999f",
   "metadata": {},
   "outputs": [
    {
     "ename": "ModuleNotFoundError",
     "evalue": "No module named 'tabla'",
     "output_type": "error",
     "traceback": [
      "\u001b[1;31m---------------------------------------------------------------------------\u001b[0m",
      "\u001b[1;31mModuleNotFoundError\u001b[0m                       Traceback (most recent call last)",
      "Input \u001b[1;32mIn [2]\u001b[0m, in \u001b[0;36m<cell line: 1>\u001b[1;34m()\u001b[0m\n\u001b[1;32m----> 1\u001b[0m \u001b[38;5;28;01mimport\u001b[39;00m \u001b[38;5;21;01mtabla\u001b[39;00m\n",
      "\u001b[1;31mModuleNotFoundError\u001b[0m: No module named 'tabla'"
     ]
    }
   ],
   "source": [
    "import tabla"
   ]
  },
  {
   "cell_type": "code",
   "execution_count": 3,
   "id": "1f7b9335-dcac-4cb6-a195-9e1aa7b70838",
   "metadata": {},
   "outputs": [
    {
     "ename": "ImportError",
     "evalue": "cannot import name 'algo' from 'sys' (unknown location)",
     "output_type": "error",
     "traceback": [
      "\u001b[1;31m---------------------------------------------------------------------------\u001b[0m",
      "\u001b[1;31mImportError\u001b[0m                               Traceback (most recent call last)",
      "Input \u001b[1;32mIn [3]\u001b[0m, in \u001b[0;36m<cell line: 1>\u001b[1;34m()\u001b[0m\n\u001b[1;32m----> 1\u001b[0m \u001b[38;5;28;01mfrom\u001b[39;00m \u001b[38;5;21;01msys\u001b[39;00m \u001b[38;5;28;01mimport\u001b[39;00m algo\n",
      "\u001b[1;31mImportError\u001b[0m: cannot import name 'algo' from 'sys' (unknown location)"
     ]
    }
   ],
   "source": [
    "from sys import algo"
   ]
  },
  {
   "cell_type": "markdown",
   "id": "45d1ad9b-25c7-42c2-a13c-d6512cc653d6",
   "metadata": {},
   "source": [
    "<h4>IndexError</h4>\n",
    "\n",
    "Esta excepcion ocurre cuando se intenta acceder a una posicion qu esta fuera del rango de posiciones admitidas por kun objeto tipo secuenci, como se puede ver a continuacion:"
   ]
  },
  {
   "cell_type": "code",
   "execution_count": 4,
   "id": "6ae95d51-190f-49c2-81eb-a6c1ca04b2e8",
   "metadata": {},
   "outputs": [
    {
     "ename": "IndexError",
     "evalue": "string index out of range",
     "output_type": "error",
     "traceback": [
      "\u001b[1;31m---------------------------------------------------------------------------\u001b[0m",
      "\u001b[1;31mIndexError\u001b[0m                                Traceback (most recent call last)",
      "Input \u001b[1;32mIn [4]\u001b[0m, in \u001b[0;36m<cell line: 2>\u001b[1;34m()\u001b[0m\n\u001b[0;32m      1\u001b[0m saludo \u001b[38;5;241m=\u001b[39m \u001b[38;5;124m'\u001b[39m\u001b[38;5;124mHola\u001b[39m\u001b[38;5;124m'\u001b[39m\n\u001b[1;32m----> 2\u001b[0m \u001b[43msaludo\u001b[49m\u001b[43m[\u001b[49m\u001b[38;5;241;43m10\u001b[39;49m\u001b[43m]\u001b[49m\n",
      "\u001b[1;31mIndexError\u001b[0m: string index out of range"
     ]
    }
   ],
   "source": [
    "saludo = 'Hola'\n",
    "saludo[10]"
   ]
  },
  {
   "cell_type": "markdown",
   "id": "ac0c865b-3eda-4bba-924f-d38c4bc9f247",
   "metadata": {},
   "source": [
    "La excepcion devuelve el tipo de objeto al que se esta intendaod acceder y el mesaje de error. Cabe destacatar que, si el indice ytilizado no es un entero, el tipo de error no es **IndexError** sino **TypeError**"
   ]
  },
  {
   "cell_type": "code",
   "execution_count": 5,
   "id": "07d5895f-2850-4da3-8be1-0f012cd23cda",
   "metadata": {},
   "outputs": [
    {
     "ename": "TypeError",
     "evalue": "string indices must be integers",
     "output_type": "error",
     "traceback": [
      "\u001b[1;31m---------------------------------------------------------------------------\u001b[0m",
      "\u001b[1;31mTypeError\u001b[0m                                 Traceback (most recent call last)",
      "Input \u001b[1;32mIn [5]\u001b[0m, in \u001b[0;36m<cell line: 2>\u001b[1;34m()\u001b[0m\n\u001b[0;32m      1\u001b[0m saldo \u001b[38;5;241m=\u001b[39m \u001b[38;5;124m'\u001b[39m\u001b[38;5;124mcatorce\u001b[39m\u001b[38;5;124m'\u001b[39m\n\u001b[1;32m----> 2\u001b[0m \u001b[43msaldo\u001b[49m\u001b[43m[\u001b[49m\u001b[38;5;124;43m'\u001b[39;49m\u001b[38;5;124;43ma\u001b[39;49m\u001b[38;5;124;43m'\u001b[39;49m\u001b[43m]\u001b[49m\n",
      "\u001b[1;31mTypeError\u001b[0m: string indices must be integers"
     ]
    }
   ],
   "source": [
    "saldo = 'catorce'\n",
    "saldo['a']"
   ]
  },
  {
   "cell_type": "markdown",
   "id": "93b46a49-57b7-41d0-b668-e50cd5619bbf",
   "metadata": {
    "tags": []
   },
   "source": [
    "<h4>NameError</h4>\n",
    "\n",
    "Esta excepcion se eleva cuando un nombre local o global no es encontrado. Por tanto, suele ocurrir cuando no se ha inicializado una viariable antes de ser usada o cuando se escribe de forma errónea:"
   ]
  },
  {
   "cell_type": "code",
   "execution_count": 6,
   "id": "c43550d9-6ffc-4cb9-a26f-9453603d25ee",
   "metadata": {},
   "outputs": [
    {
     "ename": "NameError",
     "evalue": "name 'mi_variable' is not defined",
     "output_type": "error",
     "traceback": [
      "\u001b[1;31m---------------------------------------------------------------------------\u001b[0m",
      "\u001b[1;31mNameError\u001b[0m                                 Traceback (most recent call last)",
      "Input \u001b[1;32mIn [6]\u001b[0m, in \u001b[0;36m<cell line: 1>\u001b[1;34m()\u001b[0m\n\u001b[1;32m----> 1\u001b[0m \u001b[43mmi_variable\u001b[49m\n",
      "\u001b[1;31mNameError\u001b[0m: name 'mi_variable' is not defined"
     ]
    }
   ],
   "source": [
    "mi_variable"
   ]
  },
  {
   "cell_type": "code",
   "execution_count": 7,
   "id": "e94da823-f3c8-4ffa-a5d3-c49faf7c5d02",
   "metadata": {},
   "outputs": [
    {
     "ename": "NameError",
     "evalue": "name 'clor' is not defined",
     "output_type": "error",
     "traceback": [
      "\u001b[1;31m---------------------------------------------------------------------------\u001b[0m",
      "\u001b[1;31mNameError\u001b[0m                                 Traceback (most recent call last)",
      "Input \u001b[1;32mIn [7]\u001b[0m, in \u001b[0;36m<cell line: 2>\u001b[1;34m()\u001b[0m\n\u001b[0;32m      1\u001b[0m color \u001b[38;5;241m=\u001b[39m \u001b[38;5;124m'\u001b[39m\u001b[38;5;124ma\u001b[39m\u001b[38;5;124m'\u001b[39m\n\u001b[1;32m----> 2\u001b[0m \u001b[38;5;28mprint\u001b[39m(\u001b[43mclor\u001b[49m)\n",
      "\u001b[1;31mNameError\u001b[0m: name 'clor' is not defined"
     ]
    }
   ],
   "source": [
    "color = 'a'\n",
    "print(clor)"
   ]
  },
  {
   "cell_type": "markdown",
   "id": "60c8d705-6199-41b8-b066-c981eba238e6",
   "metadata": {
    "tags": []
   },
   "source": [
    "<h4>SyntaxError</h4>\n",
    "\n",
    "Esta excepcion se eleva cuando hay un error de sintaxis y el parseador de codigo de Python lo encuentra. Las causas puede ser múltiples, desde un identificador de varible no apropiado hasta una definicion de funcion erronea, pasando por otros muchos casos:"
   ]
  },
  {
   "cell_type": "code",
   "execution_count": 8,
   "id": "3fe5e0c1-6125-4ede-88b2-b35700910d5c",
   "metadata": {},
   "outputs": [
    {
     "ename": "SyntaxError",
     "evalue": "cannot assign to expression here. Maybe you meant '==' instead of '='? (255051848.py, line 1)",
     "output_type": "error",
     "traceback": [
      "\u001b[1;36m  Input \u001b[1;32mIn [8]\u001b[1;36m\u001b[0m\n\u001b[1;33m    a-4 = 4\u001b[0m\n\u001b[1;37m    ^\u001b[0m\n\u001b[1;31mSyntaxError\u001b[0m\u001b[1;31m:\u001b[0m cannot assign to expression here. Maybe you meant '==' instead of '='?\n"
     ]
    }
   ],
   "source": [
    "a-4 = 4"
   ]
  },
  {
   "cell_type": "markdown",
   "id": "ccb420a3-9adc-4a7a-af3a-aed3dfe3b686",
   "metadata": {},
   "source": [
    "Este tipo dexcepcion no es un tan despcriptiva como otros, pero a veces, como marca el punto excato donde se ha encontrado el error, se puede adivinar facilmente cuál es la causa. La gran ventaja de que exista esta excepcion es que el error se da en tiempo de compilacion y no en tiempo de ejecucion, por lo que se puede arreglar antes de lanzar la aplicación."
   ]
  },
  {
   "cell_type": "markdown",
   "id": "082bd9d1-1621-4e0c-abfc-d96678c0988c",
   "metadata": {},
   "source": [
    "<h4>TypeError</h4>\n",
    "\n",
    "Esta excepcion se eleva cuando se intenta aplicar una operacion o una funcion sobre un objeto inapropiado. Algunos ejemplos son la suma o resta de números con cadenas de carecteres o listas, la apicacion de funciones numericas como **abs** sobre objetos no numericos u operaciones pensadas para operar sobre secuencia aplicadas a elementos únicos. Veamos los siguientes ejemplos:"
   ]
  },
  {
   "cell_type": "code",
   "execution_count": 9,
   "id": "64f7ebee-dd27-49b4-9661-2cebbe85dc2a",
   "metadata": {},
   "outputs": [
    {
     "ename": "TypeError",
     "evalue": "bad operand type for abs(): 'str'",
     "output_type": "error",
     "traceback": [
      "\u001b[1;31m---------------------------------------------------------------------------\u001b[0m",
      "\u001b[1;31mTypeError\u001b[0m                                 Traceback (most recent call last)",
      "Input \u001b[1;32mIn [9]\u001b[0m, in \u001b[0;36m<cell line: 1>\u001b[1;34m()\u001b[0m\n\u001b[1;32m----> 1\u001b[0m \u001b[38;5;28;43mabs\u001b[39;49m\u001b[43m(\u001b[49m\u001b[38;5;124;43m'\u001b[39;49m\u001b[38;5;124;43mhola\u001b[39;49m\u001b[38;5;124;43m'\u001b[39;49m\u001b[43m)\u001b[49m\n",
      "\u001b[1;31mTypeError\u001b[0m: bad operand type for abs(): 'str'"
     ]
    }
   ],
   "source": [
    "abs('hola')"
   ]
  },
  {
   "cell_type": "code",
   "execution_count": 10,
   "id": "64394e23-8f39-4b4d-80e0-dc3c338cb884",
   "metadata": {},
   "outputs": [
    {
     "ename": "TypeError",
     "evalue": "unsupported operand type(s) for +: 'int' and 'str'",
     "output_type": "error",
     "traceback": [
      "\u001b[1;31m---------------------------------------------------------------------------\u001b[0m",
      "\u001b[1;31mTypeError\u001b[0m                                 Traceback (most recent call last)",
      "Input \u001b[1;32mIn [10]\u001b[0m, in \u001b[0;36m<cell line: 1>\u001b[1;34m()\u001b[0m\n\u001b[1;32m----> 1\u001b[0m \u001b[38;5;241;43m1\u001b[39;49m\u001b[43m \u001b[49m\u001b[38;5;241;43m+\u001b[39;49m\u001b[43m \u001b[49m\u001b[38;5;124;43m'\u001b[39;49m\u001b[38;5;124;43mnumero\u001b[39;49m\u001b[38;5;124;43m'\u001b[39;49m\n",
      "\u001b[1;31mTypeError\u001b[0m: unsupported operand type(s) for +: 'int' and 'str'"
     ]
    }
   ],
   "source": [
    "1 + 'numero'"
   ]
  },
  {
   "cell_type": "code",
   "execution_count": 16,
   "id": "e29f4ee6-c58d-46a6-90c5-575e7d0a9279",
   "metadata": {},
   "outputs": [
    {
     "ename": "TypeError",
     "evalue": "'tuple' object does not support item assignment",
     "output_type": "error",
     "traceback": [
      "\u001b[1;31m---------------------------------------------------------------------------\u001b[0m",
      "\u001b[1;31mTypeError\u001b[0m                                 Traceback (most recent call last)",
      "Input \u001b[1;32mIn [16]\u001b[0m, in \u001b[0;36m<cell line: 2>\u001b[1;34m()\u001b[0m\n\u001b[0;32m      1\u001b[0m a \u001b[38;5;241m=\u001b[39m (\u001b[38;5;241m1\u001b[39m, \u001b[38;5;241m2\u001b[39m, \u001b[38;5;241m3\u001b[39m)\n\u001b[1;32m----> 2\u001b[0m a[\u001b[38;5;241m2\u001b[39m] \u001b[38;5;241m=\u001b[39m \u001b[38;5;241m9\u001b[39m\n",
      "\u001b[1;31mTypeError\u001b[0m: 'tuple' object does not support item assignment"
     ]
    }
   ],
   "source": [
    "a = (1, 2, 3)\n",
    "a[2] = 9"
   ]
  },
  {
   "cell_type": "markdown",
   "id": "590ef777-8960-403e-a2f8-19dcb5cbaf36",
   "metadata": {},
   "source": [
    "Este tipo de xcepciones son posibles gracias a que python es un lenguaje fuertemente tipado. Esta es una diferencia fundamental respecto a lenguaje como JavaScript, en los que \"1 + '1'\" devuelve 2."
   ]
  },
  {
   "cell_type": "markdown",
   "id": "1e90a415-7317-4d69-b607-ddf27e641a36",
   "metadata": {},
   "source": [
    "<h4>VaueError</h4>\n",
    "\n",
    "Esta excepcion es elevada cuando un operador o una funcion recibe un argumento que es del tipo correcto, pero el valor es inapropiado  y la situacion no puede ser descrita por una excepcion más precisa como **IndexError** o **KeyError**\n"
   ]
  },
  {
   "cell_type": "code",
   "execution_count": 17,
   "id": "94262204-25f3-4c12-b9ef-f23ce84a04d2",
   "metadata": {},
   "outputs": [
    {
     "ename": "ValueError",
     "evalue": "invalid literal for int() with base 10: 'a'",
     "output_type": "error",
     "traceback": [
      "\u001b[1;31m---------------------------------------------------------------------------\u001b[0m",
      "\u001b[1;31mValueError\u001b[0m                                Traceback (most recent call last)",
      "Input \u001b[1;32mIn [17]\u001b[0m, in \u001b[0;36m<cell line: 1>\u001b[1;34m()\u001b[0m\n\u001b[1;32m----> 1\u001b[0m \u001b[38;5;28;43mint\u001b[39;49m\u001b[43m(\u001b[49m\u001b[38;5;124;43m'\u001b[39;49m\u001b[38;5;124;43ma\u001b[39;49m\u001b[38;5;124;43m'\u001b[39;49m\u001b[43m)\u001b[49m\n",
      "\u001b[1;31mValueError\u001b[0m: invalid literal for int() with base 10: 'a'"
     ]
    }
   ],
   "source": [
    "int('a')"
   ]
  },
  {
   "cell_type": "code",
   "execution_count": 18,
   "id": "3f6eb6f2-38c5-4099-b0d6-08e7a756ce02",
   "metadata": {},
   "outputs": [
    {
     "ename": "ValueError",
     "evalue": "too many values to unpack (expected 2)",
     "output_type": "error",
     "traceback": [
      "\u001b[1;31m---------------------------------------------------------------------------\u001b[0m",
      "\u001b[1;31mValueError\u001b[0m                                Traceback (most recent call last)",
      "Input \u001b[1;32mIn [18]\u001b[0m, in \u001b[0;36m<cell line: 1>\u001b[1;34m()\u001b[0m\n\u001b[1;32m----> 1\u001b[0m a, b \u001b[38;5;241m=\u001b[39m [\u001b[38;5;241m1\u001b[39m, \u001b[38;5;241m2\u001b[39m, \u001b[38;5;241m3\u001b[39m]\n",
      "\u001b[1;31mValueError\u001b[0m: too many values to unpack (expected 2)"
     ]
    }
   ],
   "source": [
    "a, b = [1, 2, 3]"
   ]
  },
  {
   "cell_type": "markdown",
   "id": "a959fc24-afb5-4c0e-8411-3cbae7924893",
   "metadata": {},
   "source": [
    "<h4>KeyboardInterrupt</h4>\n",
    "\n",
    "esta excepcion es elevada cuando un usuario presiona la tecla de interrupcion (normalmente **Ctrl - C o Delete**) durante la ejecucion de un programa en python. Es utilizada frecuentemente cuando se crean scripts que se lanzan manualmente y que se pretenden manejar de forma especial si el usuario presiona esta tecla:"
   ]
  },
  {
   "cell_type": "code",
   "execution_count": 20,
   "id": "91897f18-52fc-4f6d-8931-8d0bed1abf4b",
   "metadata": {},
   "outputs": [
    {
     "name": "stdin",
     "output_type": "stream",
     "text": [
      "Introduzca un numero:  21\n"
     ]
    },
    {
     "name": "stdout",
     "output_type": "stream",
     "text": [
      "El cuadrado de ese numero es 441\n"
     ]
    },
    {
     "name": "stdin",
     "output_type": "stream",
     "text": [
      "Introduzca un numero:  32\n"
     ]
    },
    {
     "name": "stdout",
     "output_type": "stream",
     "text": [
      "El cuadrado de ese numero es 1024\n"
     ]
    },
    {
     "name": "stdin",
     "output_type": "stream",
     "text": [
      "Introduzca un numero:  43\n"
     ]
    },
    {
     "name": "stdout",
     "output_type": "stream",
     "text": [
      "El cuadrado de ese numero es 1849\n"
     ]
    },
    {
     "name": "stdin",
     "output_type": "stream",
     "text": [
      "Introduzca un numero:  a\n"
     ]
    },
    {
     "ename": "ValueError",
     "evalue": "invalid literal for int() with base 10: 'a'",
     "output_type": "error",
     "traceback": [
      "\u001b[1;31m---------------------------------------------------------------------------\u001b[0m",
      "\u001b[1;31mValueError\u001b[0m                                Traceback (most recent call last)",
      "Input \u001b[1;32mIn [20]\u001b[0m, in \u001b[0;36m<cell line: 1>\u001b[1;34m()\u001b[0m\n\u001b[0;32m      1\u001b[0m \u001b[38;5;28;01mtry\u001b[39;00m:\n\u001b[0;32m      2\u001b[0m     \u001b[38;5;28;01mwhile\u001b[39;00m \u001b[38;5;28;01mTrue\u001b[39;00m:\n\u001b[1;32m----> 3\u001b[0m         res \u001b[38;5;241m=\u001b[39m \u001b[38;5;28;43mint\u001b[39;49m\u001b[43m(\u001b[49m\u001b[38;5;28;43minput\u001b[39;49m\u001b[43m(\u001b[49m\u001b[38;5;124;43m\"\u001b[39;49m\u001b[38;5;124;43mIntroduzca un numero: \u001b[39;49m\u001b[38;5;124;43m\"\u001b[39;49m\u001b[43m)\u001b[49m\u001b[43m)\u001b[49m\n\u001b[0;32m      4\u001b[0m         \u001b[38;5;28mprint\u001b[39m(\u001b[38;5;124mf\u001b[39m\u001b[38;5;124m'\u001b[39m\u001b[38;5;124mEl cuadrado de ese numero es \u001b[39m\u001b[38;5;132;01m{\u001b[39;00mres\u001b[38;5;241m*\u001b[39m\u001b[38;5;241m*\u001b[39m\u001b[38;5;241m2\u001b[39m\u001b[38;5;132;01m}\u001b[39;00m\u001b[38;5;124m'\u001b[39m)\n\u001b[0;32m      5\u001b[0m \u001b[38;5;28;01mexcept\u001b[39;00m \u001b[38;5;167;01mKeyboardInterrupt\u001b[39;00m:\n",
      "\u001b[1;31mValueError\u001b[0m: invalid literal for int() with base 10: 'a'"
     ]
    }
   ],
   "source": [
    "try:\n",
    "    while True:\n",
    "        res = int(input(\"Introduzca un numero: \"))\n",
    "        print(f'El cuadrado de ese numero es {res**2}')\n",
    "except KeyboardInterrupt:\n",
    "    print('Finalizando progrma, gracias!')"
   ]
  },
  {
   "cell_type": "code",
   "execution_count": 1,
   "id": "278d3a57-cb83-48be-9713-0f1ff0efb83d",
   "metadata": {},
   "outputs": [],
   "source": [
    "#Error esperado\n",
    "\n",
    "#Introduzca un numero: 2\n",
    "#El cuadrado de ese numero es 4\n",
    "#Introduzca un numero: 3\n",
    "#El cuadrado de ese numero es 9\n",
    "#Introduzca un numero: Finalizando progrma, gracias!"
   ]
  },
  {
   "cell_type": "markdown",
   "id": "6f26ecbf-ad45-4fc5-af20-626fee25aa80",
   "metadata": {},
   "source": [
    "<h4>StopIteration</h4>\n",
    "\n",
    "Esta excepcion se produce cuando un iterador queda exhausto y no le quedan más elementos que devolver. Aunque esta excepcion se eleve siempre, se suele utilizar en bucles (**for o while** por ejemplo), los cuales ya manejan esta excepcion  de forma correcta y transparente, sin nencesidad de añadir el manejador cuando se estén usando"
   ]
  },
  {
   "cell_type": "code",
   "execution_count": 4,
   "id": "77a299a3-0dea-4955-82cf-09e7afe01b5a",
   "metadata": {},
   "outputs": [
    {
     "data": {
      "text/plain": [
       "1"
      ]
     },
     "execution_count": 4,
     "metadata": {},
     "output_type": "execute_result"
    }
   ],
   "source": [
    "iterador = (x for x in [1, 2])\n",
    "next(iterador)"
   ]
  },
  {
   "cell_type": "code",
   "execution_count": 5,
   "id": "4fb82419-d5a0-493d-8874-5e63173f3d1a",
   "metadata": {},
   "outputs": [
    {
     "data": {
      "text/plain": [
       "2"
      ]
     },
     "execution_count": 5,
     "metadata": {},
     "output_type": "execute_result"
    }
   ],
   "source": [
    "next(iterador)"
   ]
  },
  {
   "cell_type": "code",
   "execution_count": 6,
   "id": "6935b5ff-05fc-46bf-9c70-799d3e589065",
   "metadata": {},
   "outputs": [
    {
     "ename": "StopIteration",
     "evalue": "",
     "output_type": "error",
     "traceback": [
      "\u001b[1;31m---------------------------------------------------------------------------\u001b[0m",
      "\u001b[1;31mStopIteration\u001b[0m                             Traceback (most recent call last)",
      "Input \u001b[1;32mIn [6]\u001b[0m, in \u001b[0;36m<cell line: 1>\u001b[1;34m()\u001b[0m\n\u001b[1;32m----> 1\u001b[0m \u001b[38;5;28;43mnext\u001b[39;49m\u001b[43m(\u001b[49m\u001b[43miterador\u001b[49m\u001b[43m)\u001b[49m\n",
      "\u001b[1;31mStopIteration\u001b[0m: "
     ]
    }
   ],
   "source": [
    "next(iterador)"
   ]
  },
  {
   "cell_type": "markdown",
   "id": "a5ebda21-db2f-4663-a56b-a01d62799157",
   "metadata": {},
   "source": [
    "<h4>UnboundLocalError</h4>\n",
    "\n",
    "Esta excepcion se eleva cuando se intenta hacer referencia a una variable local dentro de una funcion o un metodo cuyo valor de la variable no ha sido vinculado a esa variable:"
   ]
  },
  {
   "cell_type": "code",
   "execution_count": 7,
   "id": "12a13f02-a6c8-4b25-95ea-ad98995e087c",
   "metadata": {},
   "outputs": [
    {
     "ename": "UnboundLocalError",
     "evalue": "local variable 'tipo_comida' referenced before assignment",
     "output_type": "error",
     "traceback": [
      "\u001b[1;31m---------------------------------------------------------------------------\u001b[0m",
      "\u001b[1;31mUnboundLocalError\u001b[0m                         Traceback (most recent call last)",
      "Input \u001b[1;32mIn [7]\u001b[0m, in \u001b[0;36m<cell line: 3>\u001b[1;34m()\u001b[0m\n\u001b[0;32m      1\u001b[0m \u001b[38;5;28;01mdef\u001b[39;00m \u001b[38;5;21mfoo\u001b[39m():\n\u001b[0;32m      2\u001b[0m     tipo_comida \u001b[38;5;241m+\u001b[39m\u001b[38;5;241m=\u001b[39m \u001b[38;5;241m1\u001b[39m\n\u001b[1;32m----> 3\u001b[0m \u001b[43mfoo\u001b[49m\u001b[43m(\u001b[49m\u001b[43m)\u001b[49m\n",
      "Input \u001b[1;32mIn [7]\u001b[0m, in \u001b[0;36mfoo\u001b[1;34m()\u001b[0m\n\u001b[0;32m      1\u001b[0m \u001b[38;5;28;01mdef\u001b[39;00m \u001b[38;5;21mfoo\u001b[39m():\n\u001b[1;32m----> 2\u001b[0m     tipo_comida \u001b[38;5;241m+\u001b[39m\u001b[38;5;241m=\u001b[39m \u001b[38;5;241m1\u001b[39m\n",
      "\u001b[1;31mUnboundLocalError\u001b[0m: local variable 'tipo_comida' referenced before assignment"
     ]
    }
   ],
   "source": [
    "def foo():\n",
    "    tipo_comida += 1\n",
    "foo()"
   ]
  },
  {
   "cell_type": "code",
   "execution_count": 9,
   "id": "063f2142-7e69-4c4a-84ce-2f9e443ab781",
   "metadata": {},
   "outputs": [
    {
     "ename": "UnboundLocalError",
     "evalue": "local variable 'a' referenced before assignment",
     "output_type": "error",
     "traceback": [
      "\u001b[1;31m---------------------------------------------------------------------------\u001b[0m",
      "\u001b[1;31mUnboundLocalError\u001b[0m                         Traceback (most recent call last)",
      "Input \u001b[1;32mIn [9]\u001b[0m, in \u001b[0;36m<cell line: 6>\u001b[1;34m()\u001b[0m\n\u001b[0;32m      4\u001b[0m     \u001b[38;5;28mprint\u001b[39m(a)\n\u001b[0;32m      5\u001b[0m     a \u001b[38;5;241m=\u001b[39m \u001b[38;5;241m4\u001b[39m\n\u001b[1;32m----> 6\u001b[0m \u001b[43mprinta\u001b[49m\u001b[43m(\u001b[49m\u001b[43m)\u001b[49m\n",
      "Input \u001b[1;32mIn [9]\u001b[0m, in \u001b[0;36mprinta\u001b[1;34m()\u001b[0m\n\u001b[0;32m      3\u001b[0m \u001b[38;5;28;01mdef\u001b[39;00m \u001b[38;5;21mprinta\u001b[39m():\n\u001b[1;32m----> 4\u001b[0m     \u001b[38;5;28mprint\u001b[39m(\u001b[43ma\u001b[49m)\n\u001b[0;32m      5\u001b[0m     a \u001b[38;5;241m=\u001b[39m \u001b[38;5;241m4\u001b[39m\n",
      "\u001b[1;31mUnboundLocalError\u001b[0m: local variable 'a' referenced before assignment"
     ]
    }
   ],
   "source": [
    "a = 7\n",
    "\n",
    "def printa():\n",
    "    print(a)\n",
    "    a = 4\n",
    "printa()"
   ]
  },
  {
   "cell_type": "code",
   "execution_count": 11,
   "id": "ca30cb78-b719-4cc2-a497-9648e1b21e6e",
   "metadata": {},
   "outputs": [
    {
     "name": "stdout",
     "output_type": "stream",
     "text": [
      "4\n"
     ]
    }
   ],
   "source": [
    "b = 4\n",
    "def printa2():\n",
    "    print(b)\n",
    "\n",
    "printa2()"
   ]
  },
  {
   "cell_type": "markdown",
   "id": "d2aad10b-ad63-4b42-be52-82bba399fed7",
   "metadata": {},
   "source": [
    "En el segundo ejemplo se pueve ver un xaso interesante en el que la linea a = 4, dado que esa variable a no está definida en el contexto de la funcion. Sin embargo, cuando se define la funcion de **pinta2**, como se usa la variable como lectura para la funcion **print**, no ay problema, ya que la variable está definida en el contexto superior.\n",
    "\n",
    "Cabe destacar que la excepcion **UnboundLocalError** hereda de **NameError**, pero es más especifica."
   ]
  },
  {
   "cell_type": "markdown",
   "id": "546aef85-e1ca-4cef-8ac5-a9e7a057d467",
   "metadata": {},
   "source": [
    "<h4>ZeroDivisionError</h4>\n",
    "\n",
    "Esta excepcion se eleva cuando el numerador de una division o el modulo de una operacion es cero, como se puede apreciar en los siguientes ejemplos:"
   ]
  },
  {
   "cell_type": "code",
   "execution_count": 12,
   "id": "6c67b7c7-1644-4021-a8a1-a25f9fc967d3",
   "metadata": {},
   "outputs": [
    {
     "ename": "ZeroDivisionError",
     "evalue": "division by zero",
     "output_type": "error",
     "traceback": [
      "\u001b[1;31m---------------------------------------------------------------------------\u001b[0m",
      "\u001b[1;31mZeroDivisionError\u001b[0m                         Traceback (most recent call last)",
      "Input \u001b[1;32mIn [12]\u001b[0m, in \u001b[0;36m<cell line: 1>\u001b[1;34m()\u001b[0m\n\u001b[1;32m----> 1\u001b[0m \u001b[38;5;241;43m4\u001b[39;49m\u001b[38;5;241;43m/\u001b[39;49m\u001b[38;5;241;43m0\u001b[39;49m\n",
      "\u001b[1;31mZeroDivisionError\u001b[0m: division by zero"
     ]
    }
   ],
   "source": [
    "4/0"
   ]
  },
  {
   "cell_type": "code",
   "execution_count": 14,
   "id": "f6329e06-6b31-46e2-b615-67d7a7e9e8b3",
   "metadata": {},
   "outputs": [
    {
     "ename": "ZeroDivisionError",
     "evalue": "division by zero",
     "output_type": "error",
     "traceback": [
      "\u001b[1;31m---------------------------------------------------------------------------\u001b[0m",
      "\u001b[1;31mZeroDivisionError\u001b[0m                         Traceback (most recent call last)",
      "Input \u001b[1;32mIn [14]\u001b[0m, in \u001b[0;36m<cell line: 4>\u001b[1;34m()\u001b[0m\n\u001b[0;32m      1\u001b[0m \u001b[38;5;28;01mdef\u001b[39;00m \u001b[38;5;21mfoo\u001b[39m(x, y):\n\u001b[0;32m      2\u001b[0m     \u001b[38;5;28;01mreturn\u001b[39;00m x \u001b[38;5;241m/\u001b[39m y\n\u001b[1;32m----> 4\u001b[0m \u001b[43mfoo\u001b[49m\u001b[43m(\u001b[49m\u001b[38;5;241;43m2\u001b[39;49m\u001b[43m,\u001b[49m\u001b[43m \u001b[49m\u001b[38;5;241;43m0\u001b[39;49m\u001b[43m)\u001b[49m\n",
      "Input \u001b[1;32mIn [14]\u001b[0m, in \u001b[0;36mfoo\u001b[1;34m(x, y)\u001b[0m\n\u001b[0;32m      1\u001b[0m \u001b[38;5;28;01mdef\u001b[39;00m \u001b[38;5;21mfoo\u001b[39m(x, y):\n\u001b[1;32m----> 2\u001b[0m     \u001b[38;5;28;01mreturn\u001b[39;00m \u001b[43mx\u001b[49m\u001b[43m \u001b[49m\u001b[38;5;241;43m/\u001b[39;49m\u001b[43m \u001b[49m\u001b[43my\u001b[49m\n",
      "\u001b[1;31mZeroDivisionError\u001b[0m: division by zero"
     ]
    }
   ],
   "source": [
    "def foo(x, y):\n",
    "    return x / y\n",
    "\n",
    "foo(2, 0)"
   ]
  },
  {
   "cell_type": "code",
   "execution_count": 15,
   "id": "75120408-f19a-4225-bf94-1c86d2b0399b",
   "metadata": {},
   "outputs": [
    {
     "data": {
      "text/plain": [
       "5.0"
      ]
     },
     "execution_count": 15,
     "metadata": {},
     "output_type": "execute_result"
    }
   ],
   "source": [
    "def foo_correcto(x, y):\n",
    "    if y == 0:\n",
    "        y = 1\n",
    "    return x / y\n",
    "\n",
    "foo_correcto(5, 0)"
   ]
  },
  {
   "cell_type": "markdown",
   "id": "e60e4bb4-1e3b-4701-a007-1fabb1d69063",
   "metadata": {},
   "source": [
    "Realmente, este error suele ser mas complicado en situaciones como la del segundo ejemplo, en el que podemos observar que al usar varabiles hay que asegurarse de que estas no sean 0 en el denominador."
   ]
  },
  {
   "cell_type": "markdown",
   "id": "39292877-1bbe-4718-9806-df950b169f71",
   "metadata": {},
   "source": [
    "<h3>Elevar excepciones de forma manual</h3>\n",
    "\n",
    "en Python, las excepciones se elevan automaticamente cuando un error o una accion inesperada ocurre, pero tambien es posible elevar las excepciones de forma intencionada y programada haciendo uso del comando **raise** seguido de la excepcion que se quiera elevar.\n",
    "\n",
    "En el siguiente ejemplo se puede ver como se piden numeros enteros positivos al usuario. Si el usuario introduce un valor negativo, se eleva una excepcion del tipo **ValueError**:"
   ]
  },
  {
   "cell_type": "code",
   "execution_count": 16,
   "id": "52e2289e-4f11-4a40-a047-8c6a156108b0",
   "metadata": {},
   "outputs": [
    {
     "name": "stdin",
     "output_type": "stream",
     "text": [
      "Introduzca un número entero positivo:  12\n"
     ]
    },
    {
     "name": "stdout",
     "output_type": "stream",
     "text": [
      "12\n"
     ]
    },
    {
     "name": "stdin",
     "output_type": "stream",
     "text": [
      "Introduzca un número entero positivo:  32\n"
     ]
    },
    {
     "name": "stdout",
     "output_type": "stream",
     "text": [
      "32\n"
     ]
    },
    {
     "name": "stdin",
     "output_type": "stream",
     "text": [
      "Introduzca un número entero positivo:  -1\n"
     ]
    },
    {
     "ename": "ValueError",
     "evalue": "El numero introducido -1 no es positivo",
     "output_type": "error",
     "traceback": [
      "\u001b[1;31m---------------------------------------------------------------------------\u001b[0m",
      "\u001b[1;31mValueError\u001b[0m                                Traceback (most recent call last)",
      "Input \u001b[1;32mIn [16]\u001b[0m, in \u001b[0;36m<cell line: 8>\u001b[1;34m()\u001b[0m\n\u001b[0;32m      6\u001b[0m         \u001b[38;5;28;01melse\u001b[39;00m:\n\u001b[0;32m      7\u001b[0m             \u001b[38;5;28mprint\u001b[39m(valor)\n\u001b[1;32m----> 8\u001b[0m \u001b[43melevando_excepciones\u001b[49m\u001b[43m(\u001b[49m\u001b[43m)\u001b[49m\n",
      "Input \u001b[1;32mIn [16]\u001b[0m, in \u001b[0;36melevando_excepciones\u001b[1;34m()\u001b[0m\n\u001b[0;32m      3\u001b[0m valor \u001b[38;5;241m=\u001b[39m \u001b[38;5;28mint\u001b[39m(\u001b[38;5;28minput\u001b[39m(\u001b[38;5;124m\"\u001b[39m\u001b[38;5;124mIntroduzca un número entero positivo: \u001b[39m\u001b[38;5;124m\"\u001b[39m))\n\u001b[0;32m      4\u001b[0m \u001b[38;5;28;01mif\u001b[39;00m valor \u001b[38;5;241m<\u001b[39m \u001b[38;5;241m0\u001b[39m:\n\u001b[1;32m----> 5\u001b[0m     \u001b[38;5;28;01mraise\u001b[39;00m \u001b[38;5;167;01mValueError\u001b[39;00m(\u001b[38;5;124mf\u001b[39m\u001b[38;5;124m'\u001b[39m\u001b[38;5;124mEl numero introducido \u001b[39m\u001b[38;5;132;01m{\u001b[39;00mvalor\u001b[38;5;132;01m}\u001b[39;00m\u001b[38;5;124m no es positivo\u001b[39m\u001b[38;5;124m'\u001b[39m)\n\u001b[0;32m      6\u001b[0m \u001b[38;5;28;01melse\u001b[39;00m:\n\u001b[0;32m      7\u001b[0m     \u001b[38;5;28mprint\u001b[39m(valor)\n",
      "\u001b[1;31mValueError\u001b[0m: El numero introducido -1 no es positivo"
     ]
    }
   ],
   "source": [
    "def elevando_excepciones():\n",
    "    while True:\n",
    "        valor = int(input(\"Introduzca un número entero positivo: \"))\n",
    "        if valor < 0:\n",
    "            raise ValueError(f'El numero introducido {valor} no es positivo')\n",
    "        else:\n",
    "            print(valor)\n",
    "elevando_excepciones()"
   ]
  },
  {
   "cell_type": "markdown",
   "id": "197ecaa9-0078-421f-962d-318558ee8158",
   "metadata": {},
   "source": [
    "<h3>Definición de excepciones propias</h3>\n",
    "\n",
    "Las excepciones se pueden definir basándose en una clase excepcion difinida en la libreria estandar o en una propia. Como se ha explicado en el apartado 6.3, ñas excepciones tienen una jerarquia que comineza con **BaseException**. Todas las demás expresiones heredan de esa clase, y los casos de error van haciendose cada vez más especificos para aportar mas valor con su uso y ayudar a la correccion.\n",
    "\n",
    "Por tanto, si se quisieran crear nuevas excepciones que sean mas especificas que **IndexError** y que especifiquen que el indice  no ha sido encontrado en una tupla o en una lista (se podrian llamar, por ejemplo, **TupleIndexError** y **ListIndexError**), se podria hacer de la siguiente forma:"
   ]
  },
  {
   "cell_type": "code",
   "execution_count": 18,
   "id": "40ba4a9c-79a4-4f24-8be6-1a5d0876f1e1",
   "metadata": {},
   "outputs": [
    {
     "ename": "TupleIndexCeluError",
     "evalue": "tuple index out of range",
     "output_type": "error",
     "traceback": [
      "\u001b[1;31m---------------------------------------------------------------------------\u001b[0m",
      "\u001b[1;31mIndexError\u001b[0m                                Traceback (most recent call last)",
      "Input \u001b[1;32mIn [18]\u001b[0m, in \u001b[0;36mget_index_value\u001b[1;34m(obj, index)\u001b[0m\n\u001b[0;32m      7\u001b[0m \u001b[38;5;28;01mtry\u001b[39;00m:\n\u001b[1;32m----> 8\u001b[0m     \u001b[38;5;28;01mreturn\u001b[39;00m \u001b[43mobj\u001b[49m\u001b[43m[\u001b[49m\u001b[43mindex\u001b[49m\u001b[43m]\u001b[49m\n\u001b[0;32m      9\u001b[0m \u001b[38;5;28;01mexcept\u001b[39;00m \u001b[38;5;167;01mIndexError\u001b[39;00m \u001b[38;5;28;01mas\u001b[39;00m e:\n",
      "\u001b[1;31mIndexError\u001b[0m: tuple index out of range",
      "\nDuring handling of the above exception, another exception occurred:\n",
      "\u001b[1;31mTupleIndexCeluError\u001b[0m                       Traceback (most recent call last)",
      "Input \u001b[1;32mIn [18]\u001b[0m, in \u001b[0;36m<cell line: 17>\u001b[1;34m()\u001b[0m\n\u001b[0;32m     15\u001b[0m         \u001b[38;5;28;01melse\u001b[39;00m:\n\u001b[0;32m     16\u001b[0m             \u001b[38;5;28;01mraise\u001b[39;00m e\n\u001b[1;32m---> 17\u001b[0m \u001b[43mget_index_value\u001b[49m\u001b[43m(\u001b[49m\u001b[43m(\u001b[49m\u001b[38;5;241;43m1\u001b[39;49m\u001b[43m,\u001b[49m\u001b[43m \u001b[49m\u001b[38;5;241;43m2\u001b[39;49m\u001b[43m,\u001b[49m\u001b[43m \u001b[49m\u001b[38;5;241;43m3\u001b[39;49m\u001b[43m)\u001b[49m\u001b[43m,\u001b[49m\u001b[43m \u001b[49m\u001b[38;5;241;43m4\u001b[39;49m\u001b[43m)\u001b[49m\n",
      "Input \u001b[1;32mIn [18]\u001b[0m, in \u001b[0;36mget_index_value\u001b[1;34m(obj, index)\u001b[0m\n\u001b[0;32m     10\u001b[0m args, description, tb \u001b[38;5;241m=\u001b[39m sys\u001b[38;5;241m.\u001b[39mexc_info()\n\u001b[0;32m     11\u001b[0m \u001b[38;5;28;01mif\u001b[39;00m \u001b[38;5;28misinstance\u001b[39m(obj, \u001b[38;5;28mtuple\u001b[39m):\n\u001b[1;32m---> 12\u001b[0m     \u001b[38;5;28;01mraise\u001b[39;00m TupleIndexCeluError(description)\u001b[38;5;241m.\u001b[39mwith_traceback(tb)\n\u001b[0;32m     13\u001b[0m \u001b[38;5;28;01melif\u001b[39;00m \u001b[38;5;28misinstance\u001b[39m(obj, \u001b[38;5;28mlist\u001b[39m):\n\u001b[0;32m     14\u001b[0m     \u001b[38;5;28;01mraise\u001b[39;00m ListIndexError(description)\u001b[38;5;241m.\u001b[39mwith_traceback(tb)\n",
      "Input \u001b[1;32mIn [18]\u001b[0m, in \u001b[0;36mget_index_value\u001b[1;34m(obj, index)\u001b[0m\n\u001b[0;32m      6\u001b[0m \u001b[38;5;28;01mdef\u001b[39;00m \u001b[38;5;21mget_index_value\u001b[39m(obj, index):\n\u001b[0;32m      7\u001b[0m     \u001b[38;5;28;01mtry\u001b[39;00m:\n\u001b[1;32m----> 8\u001b[0m         \u001b[38;5;28;01mreturn\u001b[39;00m \u001b[43mobj\u001b[49m\u001b[43m[\u001b[49m\u001b[43mindex\u001b[49m\u001b[43m]\u001b[49m\n\u001b[0;32m      9\u001b[0m     \u001b[38;5;28;01mexcept\u001b[39;00m \u001b[38;5;167;01mIndexError\u001b[39;00m \u001b[38;5;28;01mas\u001b[39;00m e:\n\u001b[0;32m     10\u001b[0m         args, description, tb \u001b[38;5;241m=\u001b[39m sys\u001b[38;5;241m.\u001b[39mexc_info()\n",
      "\u001b[1;31mTupleIndexCeluError\u001b[0m: tuple index out of range"
     ]
    }
   ],
   "source": [
    "import sys\n",
    "class TupleIndexCeluError(IndexError):\n",
    "    pass\n",
    "class ListIndexError(IndexError):\n",
    "    pass\n",
    "def get_index_value(obj, index):\n",
    "    try:\n",
    "        return obj[index]\n",
    "    except IndexError as e:\n",
    "        args, description, tb = sys.exc_info()\n",
    "        if isinstance(obj, tuple):\n",
    "            raise TupleIndexCeluError(description).with_traceback(tb)\n",
    "        elif isinstance(obj, list):\n",
    "            raise ListIndexError(description).with_traceback(tb)\n",
    "        else:\n",
    "            raise e\n",
    "get_index_value((1, 2, 3), 4)"
   ]
  },
  {
   "cell_type": "markdown",
   "id": "ca10437c-8062-412a-b9d0-89c7c5b5b51f",
   "metadata": {},
   "source": [
    "Como se puede ver en este ejemplo, no solo se eleva la excepcion **IndexError**, sino que además, se eleva la que es más especifica tras analizar el tipo de error obtenido. Si el objeto **obj** no es del tipo **list** o **tuple**, se sigue con la elevacion de la primera excepcion almacenada en la variable **e**. Este mecanismo ayuda mucho cuando se pretende crear una libreria o un programa que tenga excepciones propia. "
   ]
  },
  {
   "cell_type": "code",
   "execution_count": null,
   "id": "f2be185a-0be3-4c63-995c-2ea83a3cc33f",
   "metadata": {},
   "outputs": [],
   "source": []
  }
 ],
 "metadata": {
  "kernelspec": {
   "display_name": "Python 3 (ipykernel)",
   "language": "python",
   "name": "python3"
  },
  "language_info": {
   "codemirror_mode": {
    "name": "ipython",
    "version": 3
   },
   "file_extension": ".py",
   "mimetype": "text/x-python",
   "name": "python",
   "nbconvert_exporter": "python",
   "pygments_lexer": "ipython3",
   "version": "3.10.5"
  }
 },
 "nbformat": 4,
 "nbformat_minor": 5
}
