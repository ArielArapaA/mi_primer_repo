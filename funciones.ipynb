{
 "cells": [
  {
   "cell_type": "markdown",
   "id": "52f8c57a-dd77-4886-860e-7c30420f7df6",
   "metadata": {},
   "source": [
    "Funciones dentro de funciones"
   ]
  },
  {
   "cell_type": "code",
   "execution_count": 2,
   "id": "7626dbde-a9e8-464a-9f4d-8789a8652d2c",
   "metadata": {},
   "outputs": [],
   "source": [
    "def telefono_con_prefijo(prefijo_pais):\n",
    "    def f_telefono(numero_tlf):\n",
    "        return f'+{prefijo_pais} {numero_tlf}'\n",
    "    return f_telefono"
   ]
  },
  {
   "cell_type": "code",
   "execution_count": 4,
   "id": "bc288a58-a580-45c8-aa8f-8797707fb564",
   "metadata": {},
   "outputs": [
    {
     "data": {
      "text/plain": [
       "'+54 1133542095'"
      ]
     },
     "execution_count": 4,
     "metadata": {},
     "output_type": "execute_result"
    }
   ],
   "source": [
    "numero_argentina = telefono_con_prefijo(54)\n",
    "numero_argentina(1133542095)"
   ]
  },
  {
   "cell_type": "code",
   "execution_count": 12,
   "id": "7b3b5c46-ae17-4706-a19d-8cae4407c2f6",
   "metadata": {},
   "outputs": [],
   "source": [
    "def peliculas(tipo):\n",
    "    def segun_edad(edad):\n",
    "        if (tipo == \"comedia\" and edad > 5):\n",
    "            reco = \"Los picapiedras\"\n",
    "        elif (tipo == \"terror\" and edad >= 18):\n",
    "            reco = \"La llorona\"\n",
    "        else:\n",
    "            return \"no podes ver este tipo de pelicula\"\n",
    "        return reco\n",
    "    return segun_edad"
   ]
  },
  {
   "cell_type": "code",
   "execution_count": 13,
   "id": "1406bd96-6551-4d1d-838a-865133c2465d",
   "metadata": {},
   "outputs": [
    {
     "data": {
      "text/plain": [
       "'no podes ver este tipo de pelicula'"
      ]
     },
     "execution_count": 13,
     "metadata": {},
     "output_type": "execute_result"
    }
   ],
   "source": [
    "mi_genero = peliculas(\"terror\")\n",
    "mi_genero(12)"
   ]
  },
  {
   "cell_type": "code",
   "execution_count": 14,
   "id": "c44b4d11-aeb8-4aa6-901c-dcb2133a3b6f",
   "metadata": {},
   "outputs": [
    {
     "data": {
      "text/plain": [
       "'Los picapiedras'"
      ]
     },
     "execution_count": 14,
     "metadata": {},
     "output_type": "execute_result"
    }
   ],
   "source": [
    "my_genero = peliculas(\"comedia\")\n",
    "my_genero(12)"
   ]
  },
  {
   "cell_type": "markdown",
   "id": "bd704a6a-d6f6-4b5b-80bc-f059b1efc542",
   "metadata": {},
   "source": [
    "Cambiar de formato de texto"
   ]
  },
  {
   "cell_type": "code",
   "execution_count": 15,
   "id": "a1cd0e79-3ee1-4512-83a4-659e9f9b2f92",
   "metadata": {},
   "outputs": [],
   "source": [
    "def convertir_formato(cad):\n",
    "    lista_elems = list(cad)\n",
    "    lista_final = []\n",
    "    for c in lista_elems:\n",
    "        elem = c.lower() if c.lower() > 'p' else c.upper()\n",
    "        lista_final.append(elem)\n",
    "    return ''.join(lista_final)"
   ]
  },
  {
   "cell_type": "code",
   "execution_count": 16,
   "id": "c8b1658e-93a5-4192-9f80-9352959f390c",
   "metadata": {},
   "outputs": [
    {
     "data": {
      "text/plain": [
       "'LA CLEOPAtrA Es MI GAtA'"
      ]
     },
     "execution_count": 16,
     "metadata": {},
     "output_type": "execute_result"
    }
   ],
   "source": [
    "convertir_formato(\"La cleopatra es mi gata\")"
   ]
  },
  {
   "cell_type": "markdown",
   "id": "3dddc345-09aa-47ab-9577-47d0dc0afa8c",
   "metadata": {},
   "source": [
    "Documentación de funciones"
   ]
  },
  {
   "cell_type": "code",
   "execution_count": 17,
   "id": "1477376e-6e31-43a1-9729-4e5dda328feb",
   "metadata": {},
   "outputs": [],
   "source": [
    "def suma_pares(elems):\n",
    "    \"\"\" suma los elementos pares encontrados en elems\n",
    "    :param elems: lista de numeros por sumar\n",
    "    :return integer: umero resultante de suma de los pares\n",
    "    \"\"\"\n",
    "    return sum(x for x in elems if not x % 2)\n"
   ]
  },
  {
   "cell_type": "code",
   "execution_count": 18,
   "id": "b4cad8dd-55ed-41f4-b720-4af689f57f19",
   "metadata": {},
   "outputs": [
    {
     "name": "stdout",
     "output_type": "stream",
     "text": [
      "Help on function suma_pares in module __main__:\n",
      "\n",
      "suma_pares(elems)\n",
      "    suma los elementos pares encontrados en elems\n",
      "    :param elems: lista de numeros por sumar\n",
      "    :return integer: umero resultante de suma de los pares\n",
      "\n"
     ]
    }
   ],
   "source": [
    "help(suma_pares)"
   ]
  },
  {
   "cell_type": "code",
   "execution_count": 19,
   "id": "5d7ddae7-8115-4630-9bbe-367cde08e317",
   "metadata": {},
   "outputs": [
    {
     "name": "stdout",
     "output_type": "stream",
     "text": [
      " suma los elementos pares encontrados en elems\n",
      "    :param elems: lista de numeros por sumar\n",
      "    :return integer: umero resultante de suma de los pares\n",
      "    \n"
     ]
    }
   ],
   "source": [
    "print(suma_pares.__doc__)"
   ]
  },
  {
   "cell_type": "code",
   "execution_count": null,
   "id": "237f8be8-e0fe-43e8-9e50-ef3cec4a2149",
   "metadata": {},
   "outputs": [],
   "source": []
  }
 ],
 "metadata": {
  "kernelspec": {
   "display_name": "Python 3 (ipykernel)",
   "language": "python",
   "name": "python3"
  },
  "language_info": {
   "codemirror_mode": {
    "name": "ipython",
    "version": 3
   },
   "file_extension": ".py",
   "mimetype": "text/x-python",
   "name": "python",
   "nbconvert_exporter": "python",
   "pygments_lexer": "ipython3",
   "version": "3.10.5"
  }
 },
 "nbformat": 4,
 "nbformat_minor": 5
}
